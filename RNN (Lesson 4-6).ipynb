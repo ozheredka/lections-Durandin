{
 "cells": [
  {
   "cell_type": "markdown",
   "metadata": {},
   "source": [
    "# Рекуррентные нейронные сети (РНС)\n",
    "\n",
    "В сверточных нейронных сетях используется пространственная геометрия данных. Так, операции свертки и пулинга применяются вдоль временной оси для звуковых данных, в двух пространственных измерениях для изображений и в трех измерениях (высота, ширина и время) для видео.\n",
    "\n",
    "**Рекуррентные нейронные сети** - класс нейронных сетей, в которых учитывается последовательный характер входных данных. На вход подается текст, речь, временной ряд или еще какие-либо данные, в которых появление элемента в последовательности зависит от предшествующих элементов.\n",
    "\n",
    "РНС можно представить как граф, состоязий из элементарных ячеек, каждая из которых выполгняет одну и ту же опеарцию для каждого элемента последовательности. РНС обладает большой гибкостью и применяется для решения многих задач:\n",
    "* распознавание речи;\n",
    "* языковое моделирование\n",
    "* машинный перевод\n",
    "* анализ эмоциональной окраски\n",
    "* теггирование изображений\n",
    "* и т.д.\n",
    "\n",
    "РНС можно адаптировать к различным типам задач, изменяя конфигурацию ячеек в графе. "
   ]
  },
  {
   "cell_type": "markdown",
   "metadata": {},
   "source": [
    "## Простые ячейки РНС\n",
    "Традиционно, в нейросетях на основе многослойных перцептронов предполагается, что все входны незаивисимы. В последовательных данных это предположение нарушается. \n",
    "Пример: \n",
    "* Текст - первое слово предложения влияет и на второе;\n",
    "* Речь - не расслышав слово можно догадаться какое было слово, исходя из слов который произнес собеседник ранее.\n",
    "* Временные ряды - цены на акции и прогнозы погоды также характерна зависимость от прошлых данных;\n",
    "\n",
    "В ячейках РНС эта зависимсть представляется с помозью скрытого состояния (или памяти), в которой хранится сводка прошлой информации. Значение скрытого состояния в любой момент времени - функция значения на предыдущем шаге и значения данных на текущем шаге: \n",
    "\n",
    "$$ h_t = \\phi(h_{t-1}, x_t)$$\n",
    "\n",
    "* $h_t, h_{t-1}$ - значения скрытого состояния на шаге $t$ и $t-1$ соответственно,\n",
    "* $x_t$ - входное значение в момент времени $t$.\n",
    "\n",
    "Ячейку РНС можно представить графически. В момент $t$ ячейка получает а входе значение $x_t$ и выводит значение $y_t$. Часть $y_t$ (скрытое состояние $h_t$) подается обратно на вход ячейки для использования на сл. шаге $t+1$. Если параметры традиционной нейронной сети хранятся в матрице весов, то параметры РНС задаются тремя матрицами весов $U,V$ и $W$, соответствующими входу, выходу и скрытому состоянию.\n",
    "![](./img/rnn-pic1.png)\n",
    "Еще один взгляд на РНС - *развертка*. Это означает, что мы рисуем сеть на протяжении всей последоватевательности. На рисунке изображена РНС с 3 слоями, пригодная для обработки последовательностей с тремя элементами. Заметим, что матрицы весов $U,V,W$ разделяются **между всеми шагами, поскольку на каждом шаге к разным данным применяются одни и те же операции**. Благодаря использвоанию одних и тех же весов на всех временных шагах удается существенно снизить количество обучаемых параметров РНС.\n",
    "\n",
    "Вычислния выполняемые РНС можно также описать в виде уравнений. Внутреннее состояние РНС в момент времени $t$ определяется значением вектора $h_t$, равного результату применения нелинейности *tanh* к сумме произведения матрицы весов $W$ на скрытое состояние $h_{t-1}$ в момент $t-1$ и произведения матрицы весов $U$ на входное значение $x_t$ в момент $t$. Выбор нелинейности *tanh*, а не какой-то лругой, связан с тем, что её вторая производная очень медленно убывает, приближаясь к нулю, поэтому градиенты остаются в линейной части функции активации, что помогает справится с проблемой **исчезающего градиента**.\n",
    "\n",
    "Выходной вектор $y_t$ в момент времени $t$ равен результату применения функции *softmax* к произведению матрицы весов $V$ на скрытое состояние $h_t$ и представляет набор вероятностей выхода:\n",
    "$$ h_t = tanh(Wh_{t-1}+Ux_{t})$$\n",
    "$$ y_t = softmax(Vh_t)$$\n",
    "\n",
    "Keras предоставляет слой рекуррентной нейронной сети SimpleRNN, включающий всю описанную логику, и эффективные варианты LSTM и GRU. "
   ]
  },
  {
   "cell_type": "markdown",
   "metadata": {},
   "source": [
    "## Простая РНС с применением Keras - порождение текста\n",
    "\n",
    "РНС активно используется в NLP для решения различных задач. Одна из которых **построения языковых моделей**,. Такая модель позволяет предсказать вероятность появления слова в тексте при условии известных предыдущих слов. Языковые модели важны для таких высокоуровневых прилоежнией, как машинные перевод, исправление правописания и т.д.\n",
    "\n",
    "Побочным эффектим умения предсказать сл. слово по известным предыдущим является порождающая модель, которая генерирует текст путем переборки слов из выходного распределения. В случае языкового моделирования входом обычно является последовательность слов, а вызолом последовательность предсказанных слов. В роли робучающих данных выступает меющийся непомеченный текст, и метка $y_t$ в момент времени $t$ становится входом $x_{t+1}$ в момент времени $t+1$.\n",
    "\n",
    "Первым примером исползования Keras для построения РНС будет языковая модель обученная предсказывать следующий символ по 10 рпредыдущим на тексте \"Алисы в стране чудес\".\n",
    "\n",
    "Мы остановились на модели предсказания символа, потому что у нее меньше словарь и обучение происходит быстрее. Но та же идея применима к предсказанию слов, нужно только символы заменить словами. Обученная модель будет использована для порождения нового текста в том же стиле.\n",
    "\n",
    "Сначала импортируем модели:"
   ]
  },
  {
   "cell_type": "code",
   "execution_count": 44,
   "metadata": {
    "collapsed": true
   },
   "outputs": [],
   "source": [
    "from keras.layers.recurrent import SimpleRNN\n",
    "from keras.models import Sequential\n",
    "from keras.layers import Dense, Activation\n",
    "import numpy as np"
   ]
  },
  {
   "cell_type": "markdown",
   "metadata": {},
   "source": [
    "Входной текст \"Алисы в Стране чудес\" (на англ. языке) берем с сайта проекта Гутенберг по адресу http://www.gutenberg.org/files/11/11-0.txt\n",
    "\n",
    "Файл содержит символы конца строки и символы не в кодировке ASCII, поэтому произведем предварительную обработку и запишем результат в переменную text:"
   ]
  },
  {
   "cell_type": "code",
   "execution_count": 47,
   "metadata": {},
   "outputs": [
    {
     "name": "stdout",
     "output_type": "stream",
     "text": [
      "Extracting text from input...\n"
     ]
    }
   ],
   "source": [
    "INPUT_FILE = \"./data/11-0.txt\"\n",
    "\n",
    "# extract the input as a stream of characters\n",
    "print(\"Extracting text from input...\")\n",
    "fin = open(INPUT_FILE, 'r', encoding='utf-8')\n",
    "lines = []\n",
    "for line in fin:\n",
    "    line = line.strip().lower()\n",
    "    if len(line) == 0:\n",
    "        continue\n",
    "    lines.append(line)\n",
    "fin.close()\n",
    "text = \" \".join(lines)"
   ]
  },
  {
   "cell_type": "markdown",
   "metadata": {},
   "source": [
    "Поскольку РНС будет предсказывать символы, то и словарь состоит из множества символов, встречающихся в тексте. Таковых у нас 47. Мы будем иметь дело не с самими символами, а с их индексами, а с индексами, поэтому в сл. фрагменте создаются таблицы соответствия:"
   ]
  },
  {
   "cell_type": "code",
   "execution_count": 48,
   "metadata": {
    "collapsed": true
   },
   "outputs": [],
   "source": [
    "# creating lookup tables\n",
    "# Here chars is the number of features in our character \"vocabulary\"\n",
    "chars = set([c for c in text])\n",
    "nb_chars = len(chars)\n",
    "char2index = dict((c, i) for i, c in enumerate(chars))\n",
    "index2char = dict((i, c) for i, c in enumerate(chars))"
   ]
  },
  {
   "cell_type": "code",
   "execution_count": 49,
   "metadata": {
    "scrolled": true
   },
   "outputs": [
    {
     "data": {
      "text/plain": [
       "{' ': 32,\n",
       " '!': 14,\n",
       " '(': 21,\n",
       " ')': 15,\n",
       " '*': 16,\n",
       " ',': 9,\n",
       " '-': 25,\n",
       " '.': 23,\n",
       " '0': 43,\n",
       " '3': 46,\n",
       " ':': 13,\n",
       " ';': 12,\n",
       " '?': 29,\n",
       " '[': 22,\n",
       " ']': 44,\n",
       " '_': 7,\n",
       " 'a': 4,\n",
       " 'b': 11,\n",
       " 'c': 27,\n",
       " 'd': 24,\n",
       " 'e': 33,\n",
       " 'f': 0,\n",
       " 'g': 45,\n",
       " 'h': 28,\n",
       " 'i': 35,\n",
       " 'j': 2,\n",
       " 'k': 30,\n",
       " 'l': 39,\n",
       " 'm': 5,\n",
       " 'n': 3,\n",
       " 'o': 8,\n",
       " 'p': 42,\n",
       " 'q': 1,\n",
       " 'r': 41,\n",
       " 's': 34,\n",
       " 't': 36,\n",
       " 'u': 37,\n",
       " 'v': 6,\n",
       " 'w': 18,\n",
       " 'x': 19,\n",
       " 'y': 20,\n",
       " 'z': 38,\n",
       " '‘': 10,\n",
       " '’': 40,\n",
       " '“': 26,\n",
       " '”': 31,\n",
       " '\\ufeff': 17}"
      ]
     },
     "execution_count": 49,
     "metadata": {},
     "output_type": "execute_result"
    }
   ],
   "source": [
    "char2index"
   ]
  },
  {
   "cell_type": "markdown",
   "metadata": {},
   "source": [
    "Следующий шаг - создание входных строк и меток. Для этого проходим по тексту с шагом STEP сиволов (в нашем солуча 1) и выделяем отрезки длиной SEQLEN (в нашем случае 10). Следующий после отрезка символ будет меткой:\n"
   ]
  },
  {
   "cell_type": "code",
   "execution_count": 50,
   "metadata": {},
   "outputs": [
    {
     "name": "stdout",
     "output_type": "stream",
     "text": [
      "Creating input and label text...\n"
     ]
    }
   ],
   "source": [
    "# create inputs and labels from the text. We do this by stepping\n",
    "# through the text ${step} character at a time, and extracting a \n",
    "# sequence of size ${seqlen} and the next output char. For example,\n",
    "# assuming an input text \"The sky was falling\", we would get the \n",
    "# following sequence of input_chars and label_chars (first 5 only)\n",
    "#   The sky wa -> s\n",
    "#   he sky was ->  \n",
    "#   e sky was  -> f\n",
    "#    sky was f -> a\n",
    "#   sky was fa -> l\n",
    "print(\"Creating input and label text...\")\n",
    "SEQLEN = 10\n",
    "STEP = 1\n",
    "\n",
    "input_chars = []\n",
    "label_chars = []\n",
    "for i in range(0, len(text) - SEQLEN, STEP):\n",
    "    input_chars.append(text[i:i + SEQLEN])\n",
    "    label_chars.append(text[i + SEQLEN])\n"
   ]
  },
  {
   "cell_type": "markdown",
   "metadata": {},
   "source": [
    "Этот код строит из текста последовательность входных строк и меток:\n",
    "   \n",
    "* The sky wa -> s\n",
    "* he sky was ->  \n",
    "* e sky was  -> f\n",
    "*  sky was f -> a\n",
    "* sky was fa -> l\n",
    "   \n",
    "Следующий шаг - векторизация входных строк и меток. На вход РНС подаются построенные выше входные строки. В каждой из них SEQLEN символов, а поскольку размер словаря составляет nb_chars, то каждый входной символ представляется унитарным вектором длины nb_chars. Следовательно, каждый входной элемент представляет собой тензор формы SEQLEN x nb_chars. Выходная метка - это единственный символ , поэтому по аналогии с представлением входных символов она представляется унитарным вектором длины nb_chars.\n"
   ]
  },
  {
   "cell_type": "code",
   "execution_count": 51,
   "metadata": {},
   "outputs": [
    {
     "name": "stdout",
     "output_type": "stream",
     "text": [
      "Vectorizing input and label text...\n"
     ]
    }
   ],
   "source": [
    "# vectorize the input and label chars\n",
    "# Each row of the input is represented by seqlen characters, each \n",
    "# represented as a 1-hot encoding of size len(char). There are \n",
    "# len(input_chars) such rows, so shape(X) is (len(input_chars),\n",
    "# seqlen, nb_chars).\n",
    "# Each row of output is a single character, also represented as a\n",
    "# dense encoding of size len(char). Hence shape(y) is (len(input_chars),\n",
    "# nb_chars).\n",
    "print(\"Vectorizing input and label text...\")\n",
    "X = np.zeros((len(input_chars), SEQLEN, nb_chars), dtype=np.bool)\n",
    "y = np.zeros((len(input_chars), nb_chars), dtype=np.bool)\n",
    "for i, input_char in enumerate(input_chars):\n",
    "    for j, ch in enumerate(input_char):\n",
    "        X[i, j, char2index[ch]] = 1\n",
    "    y[i, char2index[label_chars[i]]] = 1"
   ]
  },
  {
   "cell_type": "markdown",
   "metadata": {},
   "source": [
    "Будем строить модель. Размерность выхода РНС пусть равна будет 128. Это гиперпараметр, определяемый в ходе элементов. В общем случае, если выбрать слишком маленькое значение, то емкость модели будет недостаточна для порождения хороших текстов, и мы увидим длинные серии повторяющихся символов или повторябщиеся группы слов. Если значение слишком велико, то у модели будет слишком много параметров, так что для её обучения потребуется гораздо больше данных. Мы хотим получать на выходе один символ, а не последовательность, поэтому задаем параметр return_sequence=False. Входные данные РНС имеют форму матрицы SEQLEN x nb_chars. Кроме того, задается параметр unroll=True, потому что при этом повышается качество работы базовой библиотеки TensorFlow.\n",
    "\n",
    "РНС соединяется с плотным (полносвязным) слоем. В плотном слое nb_char нейронов, которые выдают оценки появления каждого символа из словаря. Функция активации в этом случае является softmax которая нормирует оценки, преобразуя их в вероятности. Символ с наибольшей вероятностью возвращается в качестве предсказания. При компиляыии модели задается категориальная перекрестная энтропия в качестве функции потерь (она хорошо подходит для категориального выхода) и оптимизатор RMSProp:\n"
   ]
  },
  {
   "cell_type": "code",
   "execution_count": 52,
   "metadata": {
    "collapsed": true
   },
   "outputs": [],
   "source": [
    "# Build the model. We use a single RNN with a fully connected layer\n",
    "# to compute the most likely predicted output char\n",
    "HIDDEN_SIZE = 128\n",
    "BATCH_SIZE = 128\n",
    "NUM_ITERATIONS = 25\n",
    "NUM_EPOCHS_PER_ITERATION = 1\n",
    "NUM_PREDS_PER_EPOCH = 100\n",
    "\n",
    "model = Sequential()\n",
    "model.add(SimpleRNN(HIDDEN_SIZE, return_sequences=False,\n",
    "                    input_shape=(SEQLEN, nb_chars),\n",
    "                    unroll=True))\n",
    "model.add(Dense(nb_chars))\n",
    "model.add(Activation(\"softmax\"))\n",
    "\n",
    "model.compile(loss=\"categorical_crossentropy\", optimizer=\"rmsprop\")"
   ]
  },
  {
   "cell_type": "markdown",
   "metadata": {},
   "source": [
    "Подход к обучению немного отличается от того, что видели прежде. Мы обучали модель в течении фиксированного числа периодов, а затем оценивали её на зарезервированных для этой цели тестовых данных.  Поскольку в данном случае у нас нет помеченных данных, то мы выполняем один период (NUM_EPOCHS_PER_ITERATONS = 1), а затем тестируем модель. Так происходит на протяжении 25 итераций (NUM_ITERATIONS=25). Следовательно, по существу выполяняется NUM_ITERATIONS периодов обучения и тестируем модель после каждого периода.\n",
    "\n",
    "Тестирование производится так: модель порождает символ по заданныи входным данным, затем первый символ входной строки отбрасывается, в конец дописывается предсказанный на предыдущем прогоне символ и у модели запрашивается сл. предсказание. Так повторяется 100 раз (NUM_PREDS_PER_EPOCH=100), после чего получившаяся строка печатается. Эта строка и является индикатором качества модели:"
   ]
  },
  {
   "cell_type": "code",
   "execution_count": 53,
   "metadata": {},
   "outputs": [
    {
     "name": "stdout",
     "output_type": "stream",
     "text": [
      "==================================================\n",
      "Iteration #: 0\n",
      "Epoch 1/1\n",
      "142635/142635 [==============================] - 29s - loss: 2.3514    \n",
      "Generating from seed: ver with d\n",
      "ver with dout the the the the the the the the the the the the the the the the the the the the the the the the \n",
      "==================================================\n",
      "Iteration #: 1\n",
      "Epoch 1/1\n",
      "142635/142635 [==============================] - 26s - loss: 2.0291    \n",
      "Generating from seed:  interest \n",
      " interest the care the charded the charded the charded the charded the charded the charded the charded the cha\n",
      "==================================================\n",
      "Iteration #: 2\n",
      "Epoch 1/1\n",
      "142635/142635 [==============================] - 26s - loss: 1.9241    \n",
      "Generating from seed: ou know.’ \n",
      "ou know.’ ‘i don’t and and all at in a could be and at in a don’t and and all at in a could be and at in a don\n",
      "==================================================\n",
      "Iteration #: 3\n",
      "Epoch 1/1\n",
      "142635/142635 [==============================] - 26s - loss: 1.8466    \n",
      "Generating from seed:  ‘he won’t\n",
      " ‘he won’t the mouse for the the said the mock turtle the mouther all the the moust as it little the mouther a\n",
      "==================================================\n",
      "Iteration #: 4\n",
      "Epoch 1/1\n",
      "142635/142635 [==============================] - 26s - loss: 1.7817    \n",
      "Generating from seed: obster; i \n",
      "obster; i don’t the hither was and the hat the hat the hat the hat the hat the hat the hat the hat the hat the\n",
      "==================================================\n",
      "Iteration #: 5\n",
      "Epoch 1/1\n",
      "142635/142635 [==============================] - 31s - loss: 1.7281    \n",
      "Generating from seed: ee a littl\n",
      "ee a little the har sood the har her she was the the har sood the har her she was the the har sood the har her\n",
      "==================================================\n",
      "Iteration #: 6\n",
      "Epoch 1/1\n",
      "142635/142635 [==============================] - 26s - loss: 1.6822    \n",
      "Generating from seed: ver, she s\n",
      "ver, she said to her foot really to her foot really to her foot really to her foot really to her foot really t\n",
      "==================================================\n",
      "Iteration #: 7\n",
      "Epoch 1/1\n",
      "142635/142635 [==============================] - 29s - loss: 1.6455    \n",
      "Generating from seed: above the \n",
      "above the was a little she was so dound a little she was so dound a little she was so dound a little she was s\n",
      "==================================================\n",
      "Iteration #: 8\n",
      "Epoch 1/1\n",
      "142635/142635 [==============================] - 26s - loss: 1.6100    \n",
      "Generating from seed: their verd\n",
      "their verd it alice the mock turtle while the was she was she was she was she was she was she was she was she \n",
      "==================================================\n",
      "Iteration #: 9\n",
      "Epoch 1/1\n",
      "142635/142635 [==============================] - 25s - loss: 1.5817    \n",
      "Generating from seed: ’ said the\n",
      "’ said the morse for a mare of the morely say way so finded the parre the mouse sat it was she was she was she\n",
      "==================================================\n",
      "Iteration #: 10\n",
      "Epoch 1/1\n",
      "142635/142635 [==============================] - 30s - loss: 1.5550    \n",
      "Generating from seed: d a canary\n",
      "d a canary with a little said to herself the dormouse said the dormouse said the dormouse said the dormouse sa\n",
      "==================================================\n",
      "Iteration #: 11\n",
      "Epoch 1/1\n",
      "142635/142635 [==============================] - 33s - loss: 1.5320    \n",
      "Generating from seed: our nose--\n",
      "our nose--’ ‘then it was so mance said the mock turtle with a little begin a little begin a little begin a lit\n",
      "==================================================\n",
      "Iteration #: 12\n",
      "Epoch 1/1\n",
      "142635/142635 [==============================] - 26s - loss: 1.5117    \n",
      "Generating from seed:  last, the\n",
      " last, the rabbit with the rabbit with the rabbit with the rabbit with the rabbit with the rabbit with the rab\n",
      "==================================================\n",
      "Iteration #: 13\n",
      "Epoch 1/1\n",
      "142635/142635 [==============================] - 25s - loss: 1.4932    \n",
      "Generating from seed:  the roof \n",
      " the roof little she said to the bard when i can the door little got a more the door little got a more the doo\n",
      "==================================================\n",
      "Iteration #: 14\n",
      "Epoch 1/1\n",
      "142635/142635 [==============================] - 26s - loss: 1.4760    - ETA: 0s -\n",
      "Generating from seed: t cried ou\n",
      "t cried out of the court have the caterpillar some of the court have the caterpillar some of the court have th\n",
      "==================================================\n",
      "Iteration #: 15\n",
      "Epoch 1/1\n",
      "142635/142635 [==============================] - 26s - loss: 1.4618    \n",
      "Generating from seed: ‘it all ca\n",
      "‘it all came of the gryphon alice was she had not it was the mock turtle was it was to the gryphon alice was s\n",
      "==================================================\n",
      "Iteration #: 16\n",
      "Epoch 1/1\n",
      "142635/142635 [==============================] - 26s - loss: 1.4473    - ETA: 0s - \n",
      "Generating from seed: ‘i don’t e\n",
      "‘i don’t every hand in the the wind with the words was the words was the words was the words was the words was\n",
      "==================================================\n",
      "Iteration #: 17\n",
      "Epoch 1/1\n",
      "142635/142635 [==============================] - 26s - loss: 1.4355    \n",
      "Generating from seed: pped, and \n",
      "pped, and the said to herself the said to herself the said to herself the said to herself the said to herself \n",
      "==================================================\n",
      "Iteration #: 18\n",
      "Epoch 1/1\n",
      "142635/142635 [==============================] - 26s - loss: 1.4226    \n",
      "Generating from seed: ! ugh, ser\n",
      "! ugh, serpent, who said this sime the with one was not it was the caterpillar, you donot lead no she could no\n",
      "==================================================\n",
      "Iteration #: 19\n",
      "Epoch 1/1\n",
      "142635/142635 [==============================] - 26s - loss: 1.4132    \n",
      "Generating from seed: they were \n",
      "they were the dourt was a little thing it was a little thing it was a little thing it was a little thing it wa\n",
      "==================================================\n",
      "Iteration #: 20\n",
      "Epoch 1/1\n",
      "142635/142635 [==============================] - 26s - loss: 1.4039    \n",
      "Generating from seed:  should it\n",
      " should it the words was a little to the dormouse some crowing to be a herpent, and then they was a little to \n",
      "==================================================\n",
      "Iteration #: 21\n",
      "Epoch 1/1\n",
      "142635/142635 [==============================] - 29s - loss: 1.3945    \n",
      "Generating from seed: . ‘no, no!\n",
      ". ‘no, no! the mock turtle sound of the mock turtle sound of the mock turtle sound of the mock turtle sound of\n",
      "==================================================\n",
      "Iteration #: 22\n",
      "Epoch 1/1\n",
      "142635/142635 [==============================] - 27s - loss: 1.3860    \n",
      "Generating from seed: alice, qui\n",
      "alice, quite a little beruse in a little beruse in a little beruse in a little beruse in a little beruse in a \n",
      "==================================================\n",
      "Iteration #: 23\n",
      "Epoch 1/1\n",
      "142635/142635 [==============================] - 26s - loss: 1.3769    \n",
      "Generating from seed:  your maje\n",
      " your majesty to like the king the gryphon said to herself the rabbit his his his tone, and the gryphon said t\n",
      "==================================================\n",
      "Iteration #: 24\n",
      "Epoch 1/1\n",
      "142635/142635 [==============================] - 26s - loss: 1.3703    \n",
      "Generating from seed: nderstood \n",
      "nderstood about the mouse of the the the mock turtle was the mock turtle was the mock turtle was the mock turt\n"
     ]
    }
   ],
   "source": [
    "# We train the model in batches and test output generated at each step\n",
    "for iteration in range(NUM_ITERATIONS):\n",
    "    print(\"=\" * 50)\n",
    "    print(\"Iteration #: %d\" % (iteration))\n",
    "    model.fit(X, y, batch_size=BATCH_SIZE, epochs=NUM_EPOCHS_PER_ITERATION)\n",
    "    \n",
    "    # testing model\n",
    "    # randomly choose a row from input_chars, then use it to \n",
    "    # generate text from model for next 100 chars\n",
    "    test_idx = np.random.randint(len(input_chars))\n",
    "    test_chars = input_chars[test_idx]\n",
    "    print(\"Generating from seed: %s\" % (test_chars))\n",
    "    print(test_chars, end=\"\")\n",
    "    for i in range(NUM_PREDS_PER_EPOCH):\n",
    "        Xtest = np.zeros((1, SEQLEN, nb_chars))\n",
    "        for i, ch in enumerate(test_chars):\n",
    "            Xtest[0, i, char2index[ch]] = 1\n",
    "        pred = model.predict(Xtest, verbose=0)[0]\n",
    "        ypred = index2char[np.argmax(pred)]\n",
    "        print(ypred, end=\"\")\n",
    "        # move forward with test_chars + ypred\n",
    "        test_chars = test_chars[1:] + ypred\n",
    "    print()"
   ]
  },
  {
   "cell_type": "markdown",
   "metadata": {},
   "source": [
    "Вначале модель предсказывает вздор, но к концу 25-го периода она пишет почти без ошибок, хотя со связностью мыслей пока дело обстоит неважно. Удивительно что модель обучилась выводить символы и не имеет ни малейшего представления о словах, как будто они взяты из оригинального текста.\n",
    "\n",
    "Порождение следующего символа или слова - не единственное на что способна такая модель. Подобные модели успешно применялись для предсказания цен на акции (Financial Market Time Series Prediction with Recurrent Nural Networks) и для генераци классической музыки (DeepBach: A steerable Model for Bach Chorales Generation).\n",
    "\n",
    "http://karpathy.github.io/2015/05/21/rnn-effectiveness/"
   ]
  },
  {
   "cell_type": "markdown",
   "metadata": {},
   "source": [
    "## Топологии РНС\n",
    "\n",
    "API многослойного перцептрона и сверточной сети ограничены. Обе архитектуры принимают на входе и порождают на выходе тензоры фиксированного размера, а для преобразования входа в выход выполняют фиксированное число шагов, определяемое числом слоев сети. У РНС такого ограничения нет - входом, выходом или тем и другим могут быть поселдовательности. Это означает, что для решения конкретных задач РНС можно конфигурировать разными способами.\n",
    "\n",
    "Как мы знаем, РНС комбинирует входной вектор с предыдущим вектором состояния для получения новго вектора состояния. Это можно рассматривать как аналог выполнения программы с некоторыми входными данными и внутренними переменными. Следовательно, РНС можно считать способом описания компьютерных программ и доказано, что РНС являются полными по Тьюрингу исполнителям (\"On the computational Power of Neural Nets\") в том смысле, что при задании надлежащих весов они могут моделировать произвольные программы.\n",
    "\n",
    "Умение работать с последовательноcтями открывает возможность для различных топологий, некоторые из которых мы рассмотрим.\n",
    "\n",
    "В базовой структуре все входные последовательности имеют одинаковую длину, а выход порождается на каждом временном шаге. Пример уже видели ранее.\n",
    "\n",
    "![](./img/rnn-pic2.png)\n",
    "\n",
    "\n",
    "Другой пример РНС сети типа **многие-ко-многим** - сеть машинного перевода (b), являющаяся представителем общего семейства сетей последовательность-в-последовательность (seq-2-seq) (O. Vinyals \"Grammar as a Foreign Language\"). Они принимают на вход последовательность и порождают другую последовательность.\n",
    "\n",
    "В случае машинного перевода входом может быть, например, последовательность английскиз слов, а выходом - переведенное предложение на испанском языке.\n",
    "\n",
    "Такой же тип модели используется для PoS-тэггинга. От предыдущей топологии эта отличается тем, что в некоторые моменты времени может отсутствовать вход, а в некоторые - выход.\n",
    "\n",
    "Еще один вариант топологии - сеть типа **один-ко-многим** на рисунке (c), римером которой может служить сеть для подписывания изображений (A. Karphathy, F. Li \"DeepVisual-Semantic Alignment for Generating Image Description\"), где вход - изображение, а выход - последовательность слов.\n",
    "\n",
    "Пример сети типа **многие-ко-многим** - сеть анализа эмоциональной окраски предложений, где вход - последовательность слов, а выход - индикатор положительной или отрицательной окраски (R. Socher \"Recursive Deep Models for Semantic Compositionality over a Sentiment Treebank\"). \n"
   ]
  },
  {
   "cell_type": "markdown",
   "metadata": {},
   "source": [
    "## Проблема исчезающего и взрывного градиента\n",
    "\n",
    "Как в традиционных нейронных сетях, обучение РНС включает обратное распространение ошибки. Различие в том, что поскольку на всех шагах используются одинаковые параметры, то и градиент в кажом выходе зависит не только от текущего временного шага, но и от предыдущих.\n",
    "\n",
    "Этот процесс называется **обратным распространением во времени (backpropagation through time, BPTT)**.\n",
    "\n",
    "\n",
    "![](./img/rnn-pic3.png)\n",
    "\n",
    "Рассмотрим небольшую трехслойную сеть. В процессе прямого распространения (сплошные линии) сеть порождает предсказания, которые сравниваются с метками для вычисления потери $L_t$ на каждом временном шаге. В процессе обратного распространения (пунктирные линии) на каждом временном шаге вычисляются градиенты функции потерь по параметрам $U,V,W$ и сумма градиентов применяется \n",
    "для обновления параметров. \n",
    "\n",
    "В следующем уравнении показан градиент функции потерь по матрице $W$ в которой закодированы веса для долгосрочных зависимостей. Мы акцентируем внимание на этой части обновления, потому что именно она - причина **проблемы исчезающего и взрывного градиента**. Два других градиента функици потерь по матрицам $U$ и $V$ также суммируются по всем временным шагам:\n",
    "\n",
    "$$\\frac{\\partial L}{\\partial W} = \\sum_t \\frac{\\partial L_t}{\\partial W}$$\n",
    "\n",
    "Посмотрим что происходит с градиентом функции потреь на последнем временном шаге ($t=3$). Этот градиент можно разложить в произведение трех подградиентов, применив правило дифференцирования сложной функции. Градиент скрытого состояния $h_2$ по $W$ можно затем представить в виде суммы градиентов каждого скрытого состояния по предыдущему. Наконец, градиент скрытого состояния по предыдущему можно разложить в произведение градиентов текущего скрытого состояния по предыдущему:\n",
    "\n",
    "$$\\frac{\\partial L_3}{\\partial W} = \\frac{\\partial L_3}{\\partial y_3}\\frac{\\partial y_3}{\\partial h_2}\\frac{\\partial h_2}{\\partial W} = \\sum_{t=0}^{2} \\frac{\\partial L_3}{\\partial y_3}\\frac{\\partial y_3}{\\partial h_2}\\frac{\\partial h_2}{\\partial h_t}\\frac{\\partial h_t}{\\partial W} = \\sum_{t=0}^{2}\\frac{\\partial L_3}{\\partial y_3}\\frac{\\partial y_3}{\\partial h_2}(\\prod_{j=t+1}^{2}\\frac{\\partial h_j}{\\partial h_{j-1}})\\frac{\\partial h_t}{\\partial W} $$\n",
    "\n",
    "Аналогично вычисляются градиенты функции потерь $L_1$ и $L_2$ (на шагах 1 и 2) по $W$, после чего их сумма используется для оьновления градиента по $W$.\n",
    "\n",
    "Последнего выражения градиента в формуле выше достаточно чтобы понять откуда возникает проблема исчезающего и взрывного градиента в РНС. Рассмотрим случай, когда отдельные градиенты скрытого состояния по рпедыдущему меньше 1. При обратном распространении ошибки через несколько временных шагов произведение градиентов становится все меньше и меньше, что и ведет к проблеме исчезающего градиента. С другой стороны, если градиенты больше 1, то произведения растут - вот вам и проблема взрывного градиента.\n",
    "\n",
    "Из-за эффекта исчезающего градиента получается, что градиенты на отдаленных шагах не дают никакого вклада в процесс обучения, так что РНС не может учесть долговременные зависимости. Эта проблема может возникнуть и в традиционной нейронной сети, но в большинстве случае в РНС она проявляется более рельефно, потому что в РНС больше слоев (временных шагов), через которые проходит обратное распространение. \n",
    "\n",
    "Взрывные градиенты обнаруживаются проще, поскольку когда градиент становится слишком большим он превращается в NaN и процесс обучения аварийно завершается. Рост градиента можно контролировать, например, обрезая их по достижении заданного орога (R. Pascanu, T. Mikolov, Y. Benguo \"On the Difficulty of Training Recurrent Neural Networks\").\n",
    "\n",
    "Существует несколько подходов к смягчению проблемы исчезающих градиентов, в частности, хорошая инициализация матрицы $W$, использование функции активации ReLU вместо tanh и предобучение слоев без учителя, но наиболее популярны архитекуры LSTM и GRU. Они специально проектировались для борьбы с исчезающим градиетом и более эффективно обучаются долговременным зависимостям."
   ]
  },
  {
   "cell_type": "markdown",
   "metadata": {},
   "source": [
    "## Долгая краткосрочная память (LSTM)\n",
    "\n",
    "LSTM - вариант РНС, способный обучаться долгосрочным зависимостям. LSTM сети впервые были предложены Хохрайтером и Шмидхубером, а затем улучшены многими другими исследователями. Они хорошо работают для широкого круга задач и являются самым популярным типом РНС. \n",
    "\n",
    "В простой РНС для реализации рекуррентности используется комбинация скрытого состояния на пр. шаге и текущих входных данных в слое с функцией активации. В LSTM-сети рекурреньность реализуется аналогично, но tanh-слоев не один, а четыре, и взаимодействуют они весьма специфичным образом. На рис. показаны преобразования, применяемые к скрытому состоянию на временном шаге $t$:\n",
    "\n",
    "![](./img/rnn-pic4.png)\n",
    "\n",
    "Выглядит сложно, рассмотрим схему по шагам.\n",
    "\n",
    "Горизонтальная линия сверху изображает состояние ячейки $c$, оно представляет внутреннюю память блока. На линии снизу показано скрытое состояние, а вентили $i,f,o,g$ - механизмы, посредством которых LSTM-сеть обходит проблему исчезающего градиента. В процессе обучения LSTM находит параметры этих вентелей.\n",
    "\n",
    "Чтобы лучше понять как эти вентили модулируют скрытое состояние LSTM-сети, рассмотрим формулы вычисления скрытого состояния $h_t$ в момент $t$ по состоянию $h_{t-1}$ на предыдущем шаге:\n",
    "$$i=\\sigma(W_i h_{t-1} + U_{i}x_{t})$$\n",
    "$$f = \\sigma(W_f h_{t-1} + U_{f}x_{t})$$\n",
    "$$ o = \\sigma(W_{o}h_{t-1}+U_{o}x_{t})$$\n",
    "$$g = tanh(W_{g}h_{t-1} + U_{g}x_{t})$$\n",
    "$$c_t = (c_{t-1} \\otimes f) \\oplus ( g \\otimes i)$$\n",
    "$$ h_t = tanh(c_t) \\otimes o $$"
   ]
  },
  {
   "cell_type": "markdown",
   "metadata": {},
   "source": [
    "Здесь $i,f,o$ - входной вентиль, вентиль забывания и выходной вентиль. Все они вычисляются по одним и тем же формулам, но с разными матрицами параметров. Сигмоидная функция модулирует выход вентилей, приводя их к диапазону $[0;1]$, поэтому порождаемый выходной вектор можно умножить поэлементно на другой вектор, чтобы определить какая часть второго вектора может пройти через первый.\n",
    "\n",
    "Вентиль забывания определяет, какую часть пред. состояния $h_{t-1}$ желательно пропустить дальше. Входной вентиль определяет, какую часть вновь вычисленного состояния для текущего входа $x_t$ пропустить, а выходной вентиль - какую часть внутреннего состояния передать сл. слою. Внутреннее скрытое состояние $g$ вычисляется на основе текущего входа $x_t$ и предыдущего скрытого состояния $h_{t-1}$. Отметим, что выражение для $g$ совпадает с аналогичным выражением для ячейки простой РНС, но в данном случае мы модулируем выход, смешивая его с выходом входного вентиля $i$.\n",
    "\n",
    "Зная $i,f,g,o$ мы можем вычислить состояние ячейки $c_t$ в момент времени $t$ в терминах произведения $c_{t-1}$ на вентиль забывания и произведения $g$ на входной вентиль $i$. Это и есть способ комбинирования предыдущего содержимого памяти с новым входом. Если вентиль забывания установлен в 0, то старое запомненное состояние полностью игнорируется, а если установить в 0 ходной вентиль, то игнорируется новое вычисленное состояние.\n",
    "\n",
    "Наконец, скрытое состояние $h_t$ в момент $t$ вычисляется путем умножения памяти $c_t$ на значение выходного вентиля. \n",
    "\n",
    "Важно понимать, что LSTM можно всегда подставить вместо ячейки типа SimpleRNN и единственная разница состоит в том, что LSTM устойчива к проблеме исчезающего градиента. Заменив ячейку РНС на LSTM, мы можем не волноваться ни о каких побочных эффектах.\n"
   ]
  },
  {
   "cell_type": "markdown",
   "metadata": {},
   "source": [
    "## Пример LSTM - анализ эмоциональной окраски\n",
    "\n",
    "Keras предоставляет слой LSTM, которым мы воспользуемся чтобы построить и обучить сеть РНС типа многие-к-одному. Сеть будет пренимать предложение (последовательность слов) и выдавать индикатор эмоциональной окраски. Обучающий набор состоит примерно из 7000 коротких предложений, предлагавшихся на конкурсе Kaggle UMICH SI650 по классификации эмоциональной окраски.\n",
    "\n",
    "Начинаем с импорта:"
   ]
  },
  {
   "cell_type": "code",
   "execution_count": 25,
   "metadata": {
    "collapsed": true
   },
   "outputs": [],
   "source": [
    "from keras.layers.core import Activation, Dense, Dropout, SpatialDropout1D\n",
    "from keras.layers.embeddings import Embedding\n",
    "from keras.layers.recurrent import LSTM\n",
    "from keras.models import Sequential\n",
    "from keras.preprocessing import sequence\n",
    "from sklearn.model_selection import train_test_split\n",
    "import collections\n",
    "import matplotlib.pyplot as plt\n",
    "import nltk\n",
    "import numpy as np\n",
    "import os"
   ]
  },
  {
   "cell_type": "markdown",
   "metadata": {},
   "source": [
    "Займемся исследовательским анализом данных. Нужно знать сколько уникальных слов в корпусе текстов и сколько слов в каждом предложении:"
   ]
  },
  {
   "cell_type": "code",
   "execution_count": 38,
   "metadata": {
    "collapsed": true
   },
   "outputs": [],
   "source": [
    "DATA_DIR = \"./data\"\n",
    "\n",
    "\n",
    "\n",
    "# Read training data and generate vocabulary\n",
    "maxlen = 0\n",
    "word_freqs = collections.Counter()\n",
    "num_recs = 0\n",
    "ftrain = open(os.path.join(DATA_DIR, \"umich-sentiment-train.txt\"), 'r', encoding='utf-8')\n",
    "for line in ftrain:\n",
    "    label, sentence = line.strip().split(\"\\t\")\n",
    "    words = nltk.word_tokenize(sentence.lower())\n",
    "    if len(words) > maxlen:\n",
    "        maxlen = len(words)\n",
    "    for word in words:\n",
    "        word_freqs[word] += 1\n",
    "    num_recs += 1\n",
    "ftrain.close()"
   ]
  },
  {
   "cell_type": "code",
   "execution_count": 29,
   "metadata": {},
   "outputs": [
    {
     "name": "stdout",
     "output_type": "stream",
     "text": [
      "42\n",
      "2328\n"
     ]
    }
   ],
   "source": [
    "## Get some information about our corpus\n",
    "print(maxlen)            # 42\n",
    "print(len(word_freqs))   "
   ]
  },
  {
   "cell_type": "markdown",
   "metadata": {},
   "source": [
    "Зная кол-во уникальных слов len(word_freqs), задаем фиксированный размер словаря, все остальные слова считаем несловарными и заменяем их фиктивным словом UNK (unknown). На этапе предсказания это позволит нам обрабатывать ранее не встречавшиеся слова как несловарные.\n",
    "\n",
    "Зная число слов в предложении (maxlen), мы можем задать фиксированную длину предложения и более короткие предложения дополнять нулями, а длинные обрезать. Хотя РНС способна обрабатывать последовательности перемненой длины, достигается эо обычно дополнением и обрезанием, как описано выше, или группировкой входных данных в пакеты, содержащие последовательности одинаковой длины. Будем использовать первый подход.\n",
    "\n",
    "Исходя из вычисленных показателей, задаем VOCABULAAZY SIZE равным 2328 + 2: 2328 слов словар плюс фиктивные слова UNK и PAD (использьзуется для дополнения предложений до фикированного числа слов, в нашем случае MAX_SENTENCE_LENGTH = 42).\n"
   ]
  },
  {
   "cell_type": "code",
   "execution_count": 31,
   "metadata": {
    "collapsed": true
   },
   "outputs": [],
   "source": [
    "MAX_FEATURES = 2340\n",
    "MAX_SENTENCE_LENGTH = 42"
   ]
  },
  {
   "cell_type": "markdown",
   "metadata": {},
   "source": [
    "Понадобится пара таблиц соответствия. ВХодные данные для РНС - индексы слов, причем лова упорядочены по убыванию частоты встречаемости в обучающем наборе. Таблицы соответствия позволят находить индекс по слову и слово по индексу (включая фиктивные слова PAD и UNK):"
   ]
  },
  {
   "cell_type": "code",
   "execution_count": 32,
   "metadata": {
    "collapsed": true
   },
   "outputs": [],
   "source": [
    "# 1 is UNK, 0 is PAD\n",
    "# We take MAX_FEATURES-1 featurs to accound for PAD\n",
    "vocab_size = min(MAX_FEATURES, len(word_freqs)) + 2\n",
    "word2index = {x[0]: i+2 for i, x in \n",
    "                enumerate(word_freqs.most_common(MAX_FEATURES))}\n",
    "word2index[\"PAD\"] = 0\n",
    "word2index[\"UNK\"] = 1\n",
    "index2word = {v:k for k, v in word2index.items()}"
   ]
  },
  {
   "cell_type": "markdown",
   "metadata": {},
   "source": [
    "Затем мы преобразуем входые предложения в последовательности индексов слов, дополняя их до MAX_SENTENCE_LENGTH слов. Поскольку в нашем случае результат - бинарная величина (положительная или отрицательная тональность), обрабатывать метки не нужно:"
   ]
  },
  {
   "cell_type": "code",
   "execution_count": 35,
   "metadata": {
    "collapsed": true
   },
   "outputs": [],
   "source": [
    "# convert sentences to sequences\n",
    "X = np.empty((num_recs, ), dtype=list)\n",
    "y = np.zeros((num_recs, ))\n",
    "i = 0\n",
    "ftrain = open(os.path.join(DATA_DIR, \"umich-sentiment-train.txt\"), 'r', encoding='utf-8')\n",
    "for line in ftrain:\n",
    "    label, sentence = line.strip().split(\"\\t\")\n",
    "    words = nltk.word_tokenize(sentence.lower())\n",
    "    seqs = []\n",
    "    for word in words:\n",
    "        if word in word2index:\n",
    "            seqs.append(word2index[word])\n",
    "        else:\n",
    "            seqs.append(word2index[\"UNK\"])\n",
    "    X[i] = seqs\n",
    "    y[i] = int(label)\n",
    "    i += 1\n",
    "ftrain.close()"
   ]
  },
  {
   "cell_type": "code",
   "execution_count": 36,
   "metadata": {
    "collapsed": true
   },
   "outputs": [],
   "source": [
    "# Pad the sequences (left padded with zeros)\n",
    "X = sequence.pad_sequences(X, maxlen=MAX_SENTENCE_LENGTH)"
   ]
  },
  {
   "cell_type": "markdown",
   "metadata": {},
   "source": [
    "Разбиваем набор данных на обучающий и тестовый в пропорции 80:20:"
   ]
  },
  {
   "cell_type": "code",
   "execution_count": 37,
   "metadata": {},
   "outputs": [
    {
     "name": "stdout",
     "output_type": "stream",
     "text": [
      "(5668, 42) (1418, 42) (5668,) (1418,)\n"
     ]
    }
   ],
   "source": [
    "# Split input into training and test\n",
    "Xtrain, Xtest, ytrain, ytest = train_test_split(X, y, test_size=0.2, \n",
    "                                                random_state=42)\n",
    "print(Xtrain.shape, Xtest.shape, ytrain.shape, ytest.shape)"
   ]
  },
  {
   "cell_type": "markdown",
   "metadata": {},
   "source": [
    "Ниже представлена структура нашей РНС:\n",
    "![](./img/rnn-pic5.png)"
   ]
  },
  {
   "cell_type": "markdown",
   "metadata": {},
   "source": [
    "Входные данные - последовательность индексов слов. Длина последовательности равна MAX_SENTENCE_LENGTH. Первому измерению тензора присваивается значение None, показывающее что размер пакета (число записей загружаемых в сеть за один раз), в момент определения сети неизвестен, он будет задан на этапе выполнения с помощью параметра batch_size.\n",
    "\n",
    "Таким образомэ, в предположении, что размер пакета пока неизвестен, входной тензор имеет форму (None, MAX_SENTENCE_LENGTH, 1). Такие тензоры подаются на вход слоя погружения размра EMBEDDING_SIZE, веса которого инициализированы небольшими случайными значениями и подлежат обучению. Этот слой преобразует входной тензор к форме (None, MAX_SENTENCE_LENGTH, EMBEDDING_SIZE). Выход слоя погружения задается в LSTM с длиной поселдовательности MAX_SENTENCE_LENGTH и размером выходного слоя HIDDEN)LAYER_SIZE. На выходе LSTM получается тензор формы (None, HIDDEN_LAYER_SIZE, MAX_SENTENCE_LENGTH). По умолчанию LSTM выводит единственный тензор формы (None, HIDDEN_LAYER_SIZE) в качестве результирующей последовательности (return_sequence=False). Он подается на вход плотного слоя с размеровм выхода 1 и сигмоидной функции активации, который выводит 0 (отрицательная окраска), или 1 (положительная окраска).\n",
    "\n",
    "При компиляции модели указывается бинарная перекрестная энтропия как функция потерь, и Adam - универсаьный оптимизатор.\n",
    "\n",
    "Гиперпараметры EMBEDDING_SIZE, HIDDEN_LAYER_SIZE, BATCH_SIZE и NUM_EPOCHS выбраны по результатам экспериментов:"
   ]
  },
  {
   "cell_type": "code",
   "execution_count": 40,
   "metadata": {},
   "outputs": [
    {
     "name": "stdout",
     "output_type": "stream",
     "text": [
      "Train on 5668 samples, validate on 1418 samples\n",
      "Epoch 1/10\n",
      "5668/5668 [==============================] - 24s - loss: 0.2323 - acc: 0.8968 - val_loss: 0.0509 - val_acc: 0.9817\n",
      "Epoch 2/10\n",
      "5668/5668 [==============================] - 19s - loss: 0.0303 - acc: 0.9899 - val_loss: 0.0392 - val_acc: 0.98241s - loss: 0.\n",
      "Epoch 3/10\n",
      "5668/5668 [==============================] - 19s - loss: 0.0078 - acc: 0.9984 - val_loss: 0.0427 - val_acc: 0.9838.99\n",
      "Epoch 4/10\n",
      "5668/5668 [==============================] - 19s - loss: 0.0022 - acc: 0.9996 - val_loss: 0.0437 - val_acc: 0.9901\n",
      "Epoch 5/10\n",
      "5668/5668 [==============================] - 18s - loss: 0.0019 - acc: 0.9996 - val_loss: 0.0508 - val_acc: 0.9880\n",
      "Epoch 6/10\n",
      "5668/5668 [==============================] - 18s - loss: 0.0072 - acc: 0.9981 - val_loss: 0.0429 - val_acc: 0.9880\n",
      "Epoch 7/10\n",
      "5668/5668 [==============================] - 18s - loss: 0.0020 - acc: 0.9995 - val_loss: 0.0514 - val_acc: 0.9901\n",
      "Epoch 8/10\n",
      "5668/5668 [==============================] - 18s - loss: 0.0011 - acc: 0.9996 - val_loss: 0.0525 - val_acc: 0.9908\n",
      "Epoch 9/10\n",
      "5668/5668 [==============================] - 18s - loss: 7.0802e-04 - acc: 0.9996 - val_loss: 0.0543 - val_acc: 0.9901\n",
      "Epoch 10/10\n",
      "5668/5668 [==============================] - 18s - loss: 6.1101e-04 - acc: 0.9998 - val_loss: 0.0540 - val_acc: 0.9908\n"
     ]
    }
   ],
   "source": [
    "EMBEDDING_SIZE = 128\n",
    "HIDDEN_LAYER_SIZE = 64\n",
    "BATCH_SIZE = 32\n",
    "NUM_EPOCHS = 10\n",
    "\n",
    "# Build model\n",
    "model = Sequential()\n",
    "model.add(Embedding(vocab_size, EMBEDDING_SIZE, \n",
    "                    input_length=MAX_SENTENCE_LENGTH))\n",
    "model.add(LSTM(HIDDEN_LAYER_SIZE, dropout=0.2, recurrent_dropout=0.2))\n",
    "model.add(Dense(1))\n",
    "model.add(Activation(\"sigmoid\"))\n",
    "\n",
    "model.compile(loss=\"binary_crossentropy\", optimizer=\"adam\", \n",
    "              metrics=[\"accuracy\"])\n",
    "\n",
    "history = model.fit(Xtrain, ytrain, batch_size=BATCH_SIZE, \n",
    "                    epochs=NUM_EPOCHS,\n",
    "                    validation_data=(Xtest, ytest))"
   ]
  },
  {
   "cell_type": "markdown",
   "metadata": {},
   "source": [
    "На результатах выполнения программы видно как убивает потеря и растет верность.\n",
    "\n",
    "Построим графики зависимости потери и верности в зависимости от времени:\n"
   ]
  },
  {
   "cell_type": "code",
   "execution_count": 41,
   "metadata": {},
   "outputs": [
    {
     "data": {
      "image/png": "[encoded data removed]",
      "text/plain": [
       "<matplotlib.figure.Figure at 0x2772b8f4588>"
      ]
     },
     "metadata": {},
     "output_type": "display_data"
    }
   ],
   "source": [
    "# plot loss and accuracy\n",
    "plt.subplot(211)\n",
    "plt.title(\"Accuracy\")\n",
    "plt.plot(history.history[\"acc\"], color=\"g\", label=\"Train\")\n",
    "plt.plot(history.history[\"val_acc\"], color=\"b\", label=\"Validation\")\n",
    "plt.legend(loc=\"best\")\n",
    "\n",
    "plt.subplot(212)\n",
    "plt.title(\"Loss\")\n",
    "plt.plot(history.history[\"loss\"], color=\"g\", label=\"Train\")\n",
    "plt.plot(history.history[\"val_loss\"], color=\"b\", label=\"Validation\")\n",
    "plt.legend(loc=\"best\")\n",
    "\n",
    "plt.tight_layout()\n",
    "plt.show()\n"
   ]
  },
  {
   "cell_type": "markdown",
   "metadata": {},
   "source": [
    "Модель оценивается на полном тестовом наборе. Выбираем также несколько сл. предложений из тестового набора и печатаем предсказание РНС, метку и само предложение:"
   ]
  },
  {
   "cell_type": "code",
   "execution_count": 43,
   "metadata": {},
   "outputs": [
    {
     "name": "stdout",
     "output_type": "stream",
     "text": [
      "1376/1418 [============================>.] - ETA: 0sTest score: 0.054, accuracy: 0.991\n",
      "1\t1\ti love kirsten / leah / kate escapades and mission impossible tom as well ...\n",
      "1\t1\tbrokeback mountain was beautiful ...\n",
      "1\t1\tda vinci code was an awesome movie ...\n",
      "1\t1\tbecause i would like to make friends who like the same things i like , and i really like harry potter , so i thought that joining a community like this would be a good start .\n",
      "1\t1\ti love harry potter..\n"
     ]
    }
   ],
   "source": [
    "# evaluate\n",
    "score, acc = model.evaluate(Xtest, ytest, batch_size=BATCH_SIZE)\n",
    "print(\"Test score: %.3f, accuracy: %.3f\" % (score, acc))\n",
    "\n",
    "for i in range(5):\n",
    "    idx = np.random.randint(len(Xtest))\n",
    "    xtest = Xtest[idx].reshape(1,42)\n",
    "    ylabel = ytest[idx]\n",
    "    ypred = model.predict(xtest)[0][0]\n",
    "    sent = \" \".join([index2word[x] for x in xtest[0].tolist() if x != 0])\n",
    "    print(\"%.0f\\t%d\\t%s\" % (ypred, ylabel, sent))"
   ]
  },
  {
   "cell_type": "markdown",
   "metadata": {},
   "source": [
    "#### Recurrent dropout\n",
    "Можно заметить, что появился новый для нас параметр recurrent_dropout.\n",
    "\n",
    "Взглянем на документацию Keras: \n",
    "**dropout: Float between 0 and 1. *Fraction of the units to drop for the linear transformation of the inputs.*\n",
    "\n",
    "**recurrent_dropout**: Float between 0 and 1. *Fraction of the units to drop for the linear transformation of the recurrent state.*\n",
    "\n",
    "Обычный **dropout** применяется на входах и/или выходах, которые представляются вертикальными стрелками от $x_$ к $h_t$. Если добавить его в качестве аргументка к слою, он будет \"маской\" для входов, Вы также можете добавить слой Dropout после рекуррентного слоя, для наложения \"маски\" на выход. **Recurrent dropout** использует связи между рекуррентными уровнями (они соответствуют горизонтальным стрелкам на рисунке).\n",
    "\n",
    "![](https://i.stack.imgur.com/fWDtw.png)\n",
    "Слева - обычный dropout на входе и выходе. Справа обычный dropout + рекуррентный dropout\n"
   ]
  },
  {
   "cell_type": "markdown",
   "metadata": {},
   "source": [
    "## Вентильный рекуррентный блок (GRU)\n",
    "\n",
    "Вентильный рекуррентный блок (gated rucurrent unit, GRU) - это вариант LSTM, впервые предложенный К. Чо (Learning Phrase Representations using RNN Encoder-Decoder for Statistical Machine Translation). Он также обладает устойчивостью к проблеме исчезающего градиента, но его внутренняя структура проще, а потому и обучается он быстрее, т.е. для обновления скрытого состояния нужно меньше вычислений. На сл. рисунке показаны вентили в ячейке GRU:\n",
    "![](./img/rnn-pic6.png)\n",
    "\n",
    "Вместо трех вентелей в ячейке LSTM - входного, забывания и выходного, в ячейке GRU всего два вентиля: обновления $z$ и сброса $r$. Вентиль обновления определяет, какую часть предыдущего запомненного значения сохранить, а вентиль сброса - как смешивать новых вход с предыдущей памятью. Не существует никакого постоянного состояния ячейки, отличного от скрытого состояния, как в LSTM. Механизм GRU описывается сл. формулами:\n",
    "$$z = \\sigma(W_zh_{t-1} + U_z x_t)$$\n",
    "$$r = \\sigma (W_r h_{t-1} + U_rx_t)$$\n",
    "$$c = tanh(W_c (h_{t-1}\\otimes r) + U_c x_t $$\n",
    "$$ h_t = (z \\otimes c ) \\oplus ((1-z)\\otimes h_{t-1})$$\n",
    "\n",
    "Согласно эмпирическим оценкам качество GRU и LSTM сранимо, и нельзя дать априорную рекомендацю, какую модель выбрать для конкретной задачи. GRU быстрее обучаются и требуют меньше данных для достижения генерализации, но в ситуациях, когда обучающих данных достаточно, большая выразительность LSTM может давать лучшие результаты.\n",
    "\n",
    "Как и LSTM, GRU можно подставить вместо ячейки типа SimpleRNN. "
   ]
  },
  {
   "cell_type": "markdown",
   "metadata": {
    "collapsed": true
   },
   "source": [
    "### Пример GRU - частеречная разметка\n",
    "\n",
    "В этом суть лабораторной работы #1 :)\n"
   ]
  },
  {
   "cell_type": "markdown",
   "metadata": {},
   "source": [
    "Класс моделей последовательность в последовательность обладает мощными выразительными возможностями. Его каноническое приложение - **машинный перевод**, но есть и много других.\n",
    "* Распознавание именованных сущностей (Hammerton : \"Named Entity Recognition with LSTM\");\n",
    "* Грамматический разбор предложения (Vanyals \"Grannar as a Foreign Language\");\n",
    "* Подписывание изображений ( Karhathy, Li \"Deep Visual-Semantic Alignment for Generating Image Descriptions);\n"
   ]
  },
  {
   "cell_type": "markdown",
   "metadata": {},
   "source": [
    "## Двунаправленные РНС\n",
    "Выход РНС в момент времени $t$ зависитот выходов на всех предшествующих временных шагах. Но вполне может случиться, в частности для приложений NLP, когда атрибуты слова или фразы, которые мы пытаемся предсказать будут зависеть от контекста определяемого всем предложением, а не только предшествующими словами. Двунаправленные РНС помогают построить архитектуру сети, которая придает одинаковую важность началу и концу предложения, и позволяют увеличить объем данных, доступных для обучения.\n",
    "\n",
    "Двунаправленная РНС - это две РНС, собранных вместе, которые читают входные данные в разных направлениях. В нашем примере одна РНС будет читать слова от начала предложения к концу, а другая - от коца к началу. Выход на каждом временном шаге будет зависеть от скрытого состояния обеих РНС.\n",
    "\n",
    "Keras поддерживает двунаправленные РНС с помощью обертки: Bidirectional.\n",
    "Использование такое же:\n"
   ]
  },
  {
   "cell_type": "code",
   "execution_count": null,
   "metadata": {
    "collapsed": true
   },
   "outputs": [],
   "source": [
    "from keras.layers.wrappers import TimeDistributed, Bidirectional\n",
    "\n",
    "model = Sequential()\n",
    "model.add(Embedding(s_vocabsize, EMBED_SIZE,\n",
    "                    input_length=MAX_SEQLEN,\n",
    "                    embeddings_initializer=\"glorot_uniform\"))\n",
    "model.add(Bidirectional(LSTM(HIDDEN_SIZE, dropout_W=0.2, dropout_U=0.2)))\n",
    "model.add(RepeatVector(MAX_SEQLEN))\n",
    "model.add(Bidirectional(LSTM(HIDDEN_SIZE, return_sequences=True)))\n",
    "model.add(TimeDistributed(Dense(t_vocabsize)))\n",
    "model.add(Activation(\"softmax\"))"
   ]
  },
  {
   "cell_type": "markdown",
   "metadata": {},
   "source": [
    "## РНС с запоминанием состояния\n",
    "РНС может сохранять состояние при переходе от одного пакета к другому во время обучения.Иначе говоря, скрытое состояние, вычисленное для одного пакета обучающих данных используется в качестве начального скрытого состоояния для сл. пакета. Но этот режим необходимо задавать явно, поскольку в Keras РНС по умолчанию не запоминает состояние и сбрасывает его после каждого пакета. Запоминание состояния позволяет РНС строить свое внутреннее состояние на протяжении обработки всей последовательности обучающих данных и даже использовать его на этапе предсказания.\n",
    "\n",
    "К достоинствам РНС с запоминанием состояния сл. отнести меньший размер сети и(или) сокращение времени обучения, а к недостаткам - то что теперь мы несем ответственность за выбор такого размера пакета, который отражает периодичность данных, и за сброс состояния после каждого периода. Кроме того, данные не следует перетасовывать в процессе обучения, потому что для сетей с запоминанием состояния порядо крпедъявления данных **существенен*.\n",
    "\n",
    "### Пример LSTM с запоминанием состояния - предсказание потребления электричества\n",
    "\n",
    "Предскажем потребление электричества с помощью LSTM сети с запоминанием и без запоминания состояния и сравним результаты. В моделях с запминанием состояния внутреннее состояние, вычисленное для элемента $i$ в предыдущем пакете будет использоваться в качетсве начального состояния элемента $i$ в сл. пакете.\n",
    "\n",
    "Для обучения будем использовать набор данных из репозитория UCI: https://archive.ics.uci.edu/ml/datasets/ElectricityLoadDiagrams20112014\n",
    "\n",
    "содержит информацию о потреблении электричества 370 потребителями с интервалом 15 минут за период с 2011 по 2014 гг. Для примера выберем потребителя с номеров 250.\n",
    "\n",
    "Большинство задач можно решить с помощью РНС без запоминания состояни, поэтому прибегая к РНС с запоминанием состояния, нужно понимать, зачем вы это делаете. Как правило, такая необходимость появяется когда в данных имеется некоторая **периодичность**. Для потребления электричества характерна периодичность - потребление выше днем и ниже ночью.\n",
    "\n",
    "Выделим данные для потребителя 250 , нарисуем график за 10 дней и сохраним данные в бинарном формате NumPy.\n"
   ]
  },
  {
   "cell_type": "code",
   "execution_count": 4,
   "metadata": {
    "scrolled": true
   },
   "outputs": [
    {
     "name": "stdout",
     "output_type": "stream",
     "text": [
      "0 lines read\n",
      "5000 lines read\n",
      "10000 lines read\n",
      "15000 lines read\n",
      "20000 lines read\n",
      "25000 lines read\n",
      "30000 lines read\n",
      "35000 lines read\n",
      "40000 lines read\n",
      "45000 lines read\n",
      "50000 lines read\n",
      "55000 lines read\n",
      "60000 lines read\n",
      "65000 lines read\n",
      "70000 lines read\n",
      "75000 lines read\n",
      "80000 lines read\n",
      "85000 lines read\n",
      "90000 lines read\n",
      "95000 lines read\n",
      "100000 lines read\n",
      "105000 lines read\n",
      "110000 lines read\n",
      "115000 lines read\n",
      "120000 lines read\n",
      "125000 lines read\n",
      "130000 lines read\n",
      "135000 lines read\n",
      "140000 lines read\n"
     ]
    },
    {
     "data": {
      "image/png": "[encoded data removed]",
      "text/plain": [
       "<matplotlib.figure.Figure at 0x1ed244d5f28>"
      ]
     },
     "metadata": {},
     "output_type": "display_data"
    }
   ],
   "source": [
    "import numpy as np\n",
    "import matplotlib.pyplot as plt\n",
    "import os\n",
    "import re\n",
    "\n",
    "DATA_DIR = \"./data\"\n",
    "\n",
    "fld = open(os.path.join(DATA_DIR, \"LD2011_2014.txt\"), \"r\", encoding='utf-8')\n",
    "data = []\n",
    "line_num = 0\n",
    "#cid = np.random.randint(0, 370, 1)\n",
    "cid = 250\n",
    "for line in fld:\n",
    "    if line.startswith(\"\\\"\\\";\"):\n",
    "        continue\n",
    "    if line_num % 5000 == 0:\n",
    "        print(\"{:d} lines read\".format(line_num))\n",
    "    cols = [float(re.sub(\",\", \".\", x)) for x in \n",
    "            line.strip().split(\";\")[1:]]\n",
    "    data.append(cols[cid])\n",
    "    line_num += 1\n",
    "fld.close()\n",
    "\n",
    "NUM_ENTRIES = 1000\n",
    "plt.plot(range(NUM_ENTRIES), data[0:NUM_ENTRIES])\n",
    "plt.ylabel(\"electricity consumption\")\n",
    "plt.xlabel(\"time (1pt = 15 mins)\")\n",
    "plt.show()\n",
    "\n",
    "np.save(os.path.join(DATA_DIR, \"LD_250.npy\"), np.array(data))"
   ]
  },
  {
   "cell_type": "markdown",
   "metadata": {},
   "source": [
    "Имеется отчетливая суточная периодичность, поэтому модель с запоминанием состояния отлично подойдет. Из результатов наблюдения следует что имеет смысл взять BATCH_SIZE = 96 (кол-во 15 минутных отсчетов за 24 часа).\n",
    "Покажем одновременно код обоих версий: с запоминанием состояния и без.\n"
   ]
  },
  {
   "cell_type": "code",
   "execution_count": 5,
   "metadata": {},
   "outputs": [
    {
     "name": "stderr",
     "output_type": "stream",
     "text": [
      "Using TensorFlow backend.\n"
     ]
    }
   ],
   "source": [
    "from keras.layers.core import Dense\n",
    "from keras.layers.recurrent import LSTM\n",
    "from keras.models import Sequential\n",
    "from sklearn.preprocessing import MinMaxScaler\n",
    "import numpy as np\n",
    "import math\n",
    "import os"
   ]
  },
  {
   "cell_type": "code",
   "execution_count": 6,
   "metadata": {
    "collapsed": true
   },
   "outputs": [],
   "source": [
    "STATELESS = False\n",
    "\n",
    "NUM_TIMESTEPS = 20\n",
    "HIDDEN_SIZE = 10\n",
    "BATCH_SIZE = 96  # 24 hours (15 min intervals)\n",
    "NUM_EPOCHS = 5\n"
   ]
  },
  {
   "cell_type": "markdown",
   "metadata": {},
   "source": [
    "Загрузим данные для потребителя 250 в большой массив из сохраненного двоичного файла NumPy и нормируем его по диапазону [0;1]. Изменим форму входных данных на трехмерную."
   ]
  },
  {
   "cell_type": "code",
   "execution_count": 8,
   "metadata": {
    "collapsed": true
   },
   "outputs": [],
   "source": [
    "DATA_DIR = \"./data\"\n",
    "data = np.load(os.path.join(DATA_DIR, \"LD_250.npy\"))\n",
    "\n",
    "# scale the data to be in the range (0, 1)\n",
    "data = data.reshape(-1, 1)\n",
    "scaler = MinMaxScaler(feature_range=(0, 1), copy=False)\n",
    "data = scaler.fit_transform(data)"
   ]
  },
  {
   "cell_type": "markdown",
   "metadata": {},
   "source": [
    "При обработке каждого пакета модель принимает последовательность 15-минутных отсчетов и предсказывает следующий. Длина входной последовательности определяется переменной NUM_TIMESTEPS. По результатам экспериментов выбрано значение TIMESTEPS = 20, т.е. длина входной последовательности = 20, а выходной: 1. На сл. шаге входной массив преобразовывается в тензоры X и Y формы (None, 4) и (None, 1). Наконец, входной тензор X преобразуется в трезмерный в соответствии с требованиями сети.\n"
   ]
  },
  {
   "cell_type": "code",
   "execution_count": 9,
   "metadata": {
    "collapsed": true
   },
   "outputs": [],
   "source": [
    "# transform to 4 inputs -> 1 label format\n",
    "X = np.zeros((data.shape[0], NUM_TIMESTEPS))\n",
    "Y = np.zeros((data.shape[0], 1))\n",
    "for i in range(len(data) - NUM_TIMESTEPS - 1):\n",
    "    X[i] = data[i:i + NUM_TIMESTEPS].T\n",
    "    Y[i] = data[i + NUM_TIMESTEPS + 1]\n",
    "\n",
    "# reshape X to three dimensions (samples, timesteps, features)\n",
    "X = np.expand_dims(X, axis=2)"
   ]
  },
  {
   "cell_type": "markdown",
   "metadata": {},
   "source": [
    "Разбиваем тензоры X и Y на обучающий и тестовый наборы (соотношение 70:30). Поскольку мы работаем с временными рядами, то просто выбираем точку разделения и разрезаем данные на 2 части, не пользуясь функцией train_test_split, которая дополнительно перетасовывает данные:\n"
   ]
  },
  {
   "cell_type": "code",
   "execution_count": 10,
   "metadata": {},
   "outputs": [
    {
     "name": "stdout",
     "output_type": "stream",
     "text": [
      "(98179, 20, 1) (42077, 20, 1) (98179, 1) (42077, 1)\n"
     ]
    }
   ],
   "source": [
    "# split into training and test sets (add the extra offsets so \n",
    "# we can use batch size of 5)\n",
    "sp = int(0.7 * len(data))\n",
    "Xtrain, Xtest, Ytrain, Ytest = X[0:sp], X[sp:], Y[0:sp], Y[sp:]\n",
    "print(Xtrain.shape, Xtest.shape, Ytrain.shape, Ytest.shape)"
   ]
  },
  {
   "cell_type": "markdown",
   "metadata": {},
   "source": [
    "Определим модель без сохранения состояния. Кроме того, задаются значения переменных BATCH_SIZE и NUM_TIMESTEPS. Размер выхода LSTM определяется переменной HIDDEN_SIZE, это еще один гиперпараметр, который обычно выставляется по результатам экспериентов. Мы задали значение 10, ибо цель наша - просто сравнить 2 сети."
   ]
  },
  {
   "cell_type": "code",
   "execution_count": 17,
   "metadata": {
    "collapsed": true
   },
   "outputs": [],
   "source": [
    "# stateless model\n",
    "\n",
    "model_stateless = Sequential()\n",
    "model_stateless.add(LSTM(HIDDEN_SIZE, input_shape=(NUM_TIMESTEPS, 1), \n",
    "                   return_sequences=False))\n",
    "model_stateless.add(Dense(1))"
   ]
  },
  {
   "cell_type": "markdown",
   "metadata": {},
   "source": [
    "Модель с сохранением состояния очень похожа. В конструкторе LSTM нужно задать параметр \n",
    "    stateful=True,\n",
    "а вместо параметра\n",
    "    input_shape,\n",
    "в котором подразумевается, что размер пакета определяется на этапе выполнения, задается параметр batchnput_shape, где этот размер указывается явно. Кроме того, размеры обучающего и тестового набора даннх должны быть кратны размеру пакета."
   ]
  },
  {
   "cell_type": "code",
   "execution_count": 18,
   "metadata": {
    "collapsed": true
   },
   "outputs": [],
   "source": [
    "model_stateful = Sequential()\n",
    "model_stateful.add(LSTM(HIDDEN_SIZE, stateful=True,\n",
    "                   batch_input_shape=(BATCH_SIZE, NUM_TIMESTEPS, 1), \n",
    "                   return_sequences=False))\n",
    "model_stateful.add(Dense(1))\n",
    "\n"
   ]
  },
  {
   "cell_type": "markdown",
   "metadata": {},
   "source": [
    "Код компиляции модели одинаков для обоих РНС. В роли показатели качества выступает MSE, поскольку рассматривается задача регрессии. "
   ]
  },
  {
   "cell_type": "code",
   "execution_count": 19,
   "metadata": {
    "collapsed": true
   },
   "outputs": [],
   "source": [
    "model_stateless.compile(loss=\"mean_squared_error\", optimizer=\"adam\",\n",
    "              metrics=[\"mean_squared_error\"])\n",
    "model_stateful.compile(loss=\"mean_squared_error\", optimizer=\"adam\",\n",
    "              metrics=[\"mean_squared_error\"])"
   ]
  },
  {
   "cell_type": "markdown",
   "metadata": {},
   "source": [
    "Для обучения модели без состояния достаточно одной строки:"
   ]
  },
  {
   "cell_type": "code",
   "execution_count": 20,
   "metadata": {},
   "outputs": [
    {
     "name": "stdout",
     "output_type": "stream",
     "text": [
      "Train on 98112 samples, validate on 42048 samples\n",
      "Epoch 1/5\n",
      "98112/98112 [==============================] - 32s - loss: 0.0117 - mean_squared_error: 0.0117 - val_loss: 0.0039 - val_mean_squared_error: 0.0039\n",
      "Epoch 2/5\n",
      "98112/98112 [==============================] - 30s - loss: 0.0048 - mean_squared_error: 0.0048 - val_loss: 0.0037 - val_mean_squared_error: 0.0037\n",
      "Epoch 3/5\n",
      "98112/98112 [==============================] - 30s - loss: 0.0045 - mean_squared_error: 0.0045 - val_loss: 0.0037 - val_mean_squared_error: 0.0037\n",
      "Epoch 4/5\n",
      "98112/98112 [==============================] - 30s - loss: 0.0044 - mean_squared_error: 0.0044 - val_loss: 0.0038 - val_mean_squared_error: 0.0038\n",
      "Epoch 5/5\n",
      "98112/98112 [==============================] - 30s - loss: 0.0043 - mean_squared_error: 0.0043 - val_loss: 0.0044 - val_mean_squared_error: 0.0044\n"
     ]
    },
    {
     "data": {
      "text/plain": [
       "<keras.callbacks.History at 0x1ed33641ac8>"
      ]
     },
     "execution_count": 20,
     "metadata": {},
     "output_type": "execute_result"
    }
   ],
   "source": [
    "# stateless\n",
    "model_stateless.fit(Xtrain, Ytrain, epochs=NUM_EPOCHS, batch_size=BATCH_SIZE,\n",
    "              validation_data=(Xtest, Ytest),\n",
    "              shuffle=False)"
   ]
  },
  {
   "cell_type": "markdown",
   "metadata": {},
   "source": [
    "Соответствующий код для модели с сохранением состояния приведен ниже.\n",
    "\n",
    "Но есть 3 важных момента:\n",
    "1. Размер пакета **должен отражать периодичность данных**, поскольку РНС с сохранением состояния сопоставляет состояния соответственных элементов соседних пакетов, а это значит, что при правильном размере пакета сеть будет обучаться быстрее. Размеры обучающего и тестового наборов должны быть кратны размеру пакета. Мы обеспечили выполнение этого условия, отбросив последние несколько данных в обеих наборах;\n",
    "\n",
    "2. В цикле обучаем модель на протяжении заданного числа периодов, при этом состояние сохраняется при переходе от пакета к пакету. Но после каждого периода состояние модели нужно сбросить вручную.\n",
    "\n",
    "3. Данные необходимо передавать строго последовательно. По умолчанию Keras перетасовывает данные в каждом пакете, а эо наруашет соответствие элементов, необхоидмое для эффективного обучения РНС с сохранением состояния. Чтобы отменить тасование, задается параметр shuffle=False при обращении к model.fit():\n"
   ]
  },
  {
   "cell_type": "code",
   "execution_count": 21,
   "metadata": {},
   "outputs": [
    {
     "name": "stdout",
     "output_type": "stream",
     "text": [
      "(98112, 20, 1) (42048, 20, 1) (98112, 1) (42048, 1)\n",
      "Epoch 1/5\n",
      "Train on 98112 samples, validate on 42048 samples\n",
      "Epoch 1/1\n",
      "98112/98112 [==============================] - 23s - loss: 0.0193 - mean_squared_error: 0.0193 - val_loss: 0.0040 - val_mean_squared_error: 0.0040\n",
      "Epoch 2/5\n",
      "Train on 98112 samples, validate on 42048 samples\n",
      "Epoch 1/1\n",
      "98112/98112 [==============================] - 21s - loss: 0.0048 - mean_squared_error: 0.0048 - val_loss: 0.0037 - val_mean_squared_error: 0.0037\n",
      "Epoch 3/5\n",
      "Train on 98112 samples, validate on 42048 samples\n",
      "Epoch 1/1\n",
      "98112/98112 [==============================] - 21s - loss: 0.0045 - mean_squared_error: 0.0045 - val_loss: 0.0036 - val_mean_squared_error: 0.0036\n",
      "Epoch 4/5\n",
      "Train on 98112 samples, validate on 42048 samples\n",
      "Epoch 1/1\n",
      "98112/98112 [==============================] - 20s - loss: 0.0044 - mean_squared_error: 0.0044 - val_loss: 0.0037 - val_mean_squared_error: 0.0037\n",
      "Epoch 5/5\n",
      "Train on 98112 samples, validate on 42048 samples\n",
      "Epoch 1/1\n",
      "98112/98112 [==============================] - 21s - loss: 0.0042 - mean_squared_error: 0.0042 - val_loss: 0.0037 - val_mean_squared_error: 0.0037\n"
     ]
    }
   ],
   "source": [
    "    # stateful\n",
    "    # need to make training and test data to multiple of BATCH_SIZE\n",
    "    train_size = (Xtrain.shape[0] // BATCH_SIZE) * BATCH_SIZE\n",
    "    test_size = (Xtest.shape[0] // BATCH_SIZE) * BATCH_SIZE\n",
    "    Xtrain, Ytrain = Xtrain[0:train_size], Ytrain[0:train_size]\n",
    "    Xtest, Ytest = Xtest[0:test_size], Ytest[0:test_size]\n",
    "    print(Xtrain.shape, Xtest.shape, Ytrain.shape, Ytest.shape)\n",
    "    for i in range(NUM_EPOCHS):\n",
    "        print(\"Epoch {:d}/{:d}\".format(i+1, NUM_EPOCHS))\n",
    "        model_stateful.fit(Xtrain, Ytrain, batch_size=BATCH_SIZE, epochs=1,\n",
    "                  validation_data=(Xtest, Ytest),\n",
    "                  shuffle=False)\n",
    "        model_stateful.reset_states()"
   ]
  },
  {
   "cell_type": "markdown",
   "metadata": {},
   "source": [
    "Наконец, оценим обе модели на тестовых данных:\n"
   ]
  },
  {
   "cell_type": "code",
   "execution_count": 1,
   "metadata": {},
   "outputs": [
    {
     "ename": "NameError",
     "evalue": "name 'model_stateless' is not defined",
     "output_type": "error",
     "traceback": [
      "\u001b[1;31m---------------------------------------------------------------------------\u001b[0m",
      "\u001b[1;31mNameError\u001b[0m                                 Traceback (most recent call last)",
      "\u001b[1;32m<ipython-input-1-263a7572669c>\u001b[0m in \u001b[0;36m<module>\u001b[1;34m()\u001b[0m\n\u001b[1;32m----> 1\u001b[1;33m \u001b[0mscore\u001b[0m\u001b[1;33m,\u001b[0m \u001b[0m_\u001b[0m \u001b[1;33m=\u001b[0m \u001b[0mmodel_stateless\u001b[0m\u001b[1;33m.\u001b[0m\u001b[0mevaluate\u001b[0m\u001b[1;33m(\u001b[0m\u001b[0mXtest\u001b[0m\u001b[1;33m,\u001b[0m \u001b[0mYtest\u001b[0m\u001b[1;33m,\u001b[0m \u001b[0mbatch_size\u001b[0m\u001b[1;33m=\u001b[0m\u001b[0mBATCH_SIZE\u001b[0m\u001b[1;33m)\u001b[0m\u001b[1;33m\u001b[0m\u001b[0m\n\u001b[0m\u001b[0;32m      2\u001b[0m \u001b[0mrmse\u001b[0m \u001b[1;33m=\u001b[0m \u001b[0mmath\u001b[0m\u001b[1;33m.\u001b[0m\u001b[0msqrt\u001b[0m\u001b[1;33m(\u001b[0m\u001b[0mscore\u001b[0m\u001b[1;33m)\u001b[0m\u001b[1;33m\u001b[0m\u001b[0m\n\u001b[0;32m      3\u001b[0m \u001b[0mprint\u001b[0m\u001b[1;33m(\u001b[0m\u001b[1;34m\"Stateless model:\\n'tMSE: {:.3f}, RMSE: {:.3f}\"\u001b[0m\u001b[1;33m.\u001b[0m\u001b[0mformat\u001b[0m\u001b[1;33m(\u001b[0m\u001b[0mscore\u001b[0m\u001b[1;33m,\u001b[0m \u001b[0mrmse\u001b[0m\u001b[1;33m)\u001b[0m\u001b[1;33m)\u001b[0m\u001b[1;33m\u001b[0m\u001b[0m\n\u001b[0;32m      4\u001b[0m \u001b[1;33m\u001b[0m\u001b[0m\n\u001b[0;32m      5\u001b[0m \u001b[0mscore\u001b[0m\u001b[1;33m,\u001b[0m \u001b[0m_\u001b[0m \u001b[1;33m=\u001b[0m \u001b[0mmodel_stateful\u001b[0m\u001b[1;33m.\u001b[0m\u001b[0mevaluate\u001b[0m\u001b[1;33m(\u001b[0m\u001b[0mXtest\u001b[0m\u001b[1;33m,\u001b[0m \u001b[0mYtest\u001b[0m\u001b[1;33m,\u001b[0m \u001b[0mbatch_size\u001b[0m\u001b[1;33m=\u001b[0m\u001b[0mBATCH_SIZE\u001b[0m\u001b[1;33m)\u001b[0m\u001b[1;33m\u001b[0m\u001b[0m\n",
      "\u001b[1;31mNameError\u001b[0m: name 'model_stateless' is not defined"
     ]
    }
   ],
   "source": [
    "score, _ = model_stateless.evaluate(Xtest, Ytest, batch_size=BATCH_SIZE)\n",
    "rmse = math.sqrt(score)\n",
    "print(\"Stateless model:\\n'tMSE: {:.3f}, RMSE: {:.3f}\".format(score, rmse))\n",
    "\n",
    "score, _ = model_stateful.evaluate(Xtest, Ytest, batch_size=BATCH_SIZE)\n",
    "rmse = math.sqrt(score)\n",
    "print(\"Stateful model:\\n'tMSE: {:.3f}, RMSE: {:.3f}\".format(score, rmse))"
   ]
  },
  {
   "cell_type": "markdown",
   "metadata": {},
   "source": [
    "Как можно заметить, результаты модели с сохранением состояния чуть лучше. Однако нужно помнить, что мы привели данные к диапазону (0;1)."
   ]
  }
 ],
 "metadata": {
  "kernelspec": {
   "display_name": "Python 3",
   "language": "python",
   "name": "python3"
  },
  "language_info": {
   "codemirror_mode": {
    "name": "ipython",
    "version": 3
   },
   "file_extension": ".py",
   "mimetype": "text/x-python",
   "name": "python",
   "nbconvert_exporter": "python",
   "pygments_lexer": "ipython3",
   "version": "3.6.1"
  }
 },
 "nbformat": 4,
 "nbformat_minor": 2
}
