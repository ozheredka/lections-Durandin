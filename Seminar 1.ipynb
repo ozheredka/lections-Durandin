{
 "cells": [
  {
   "cell_type": "markdown",
   "metadata": {},
   "source": [
    "# Работа с нейронными сетями\n",
    "\n",
    "## Анатомия нейронной сети\n",
    "\n",
    "Обучение нейронной сети \"вращается\" вокруг следующих объектов:\n",
    "* Слои (layers), которые комбинируются в сеть (модель);\n",
    "* Входные данные (input data) и соответствующие ответы (targets);\n",
    "* Функцию потерь, которая определяет обратный сигнал, который используется для обучения;\n",
    "* Оптимизатор, определяющий как происходит обучение;\n",
    "\n",
    "Их взаимодействие можно визуализировать сл. образом: сеть, составленная из слоев, собранных вместе отображает входные данные (inpute data) в предсказания (predictions).\n",
    "\n",
    "Функция потерь (loss function) затем сравнивает эти предсказания с целевыми (targets), порождая стоимость потерь (loss value) являющуюся мерой насколько хорошо предсказания сети соответствуют истинным ответам. Оптимизатор использует стоимость потерь (loss value) чтобы обновить веса сети.\n",
    "\n",
    "![](https://dpzbhybb2pdcj.cloudfront.net/chollet/v-6/Figures/deep-learning-in-3-figures-3_alt.png)\n",
    "\n"
   ]
  },
  {
   "cell_type": "markdown",
   "metadata": {},
   "source": [
    "## Пример: бинарная классификация\n",
    "### IMDB dataset\n",
    "\n",
    "IMDB Dataset представляет собой множество из 50 000 обзоров с сайта IMDB. Они разделены: 25 000 обзоров на тренировочную и 25 000 обзоров на тестовую выборки, каждое множество содержит 50% негативных и 50% позитивных отзывов.\n",
    "\n",
    "Как и MNIST, набор данных IMDB предоставляется фреймворком Keras. Он уже предобработан: отзывы (последовательности слов) уже переведены в последовательности целых чисел, где каждое целое число соответствует своему слову в словаре.\n",
    "\n",
    "Ниже приведен пример загрузки этого набора данных (потребуется как минимум 80 Mb):"
   ]
  },
  {
   "cell_type": "code",
   "execution_count": 1,
   "metadata": {
    "collapsed": false
   },
   "outputs": [
    {
     "name": "stderr",
     "output_type": "stream",
     "text": [
      "Using TensorFlow backend.\n"
     ]
    },
    {
     "name": "stdout",
     "output_type": "stream",
     "text": [
      "Downloading data from https://s3.amazonaws.com/text-datasets/imdb.npz\n",
      "17424384/17464789 [============================>.] - ETA: 0s"
     ]
    }
   ],
   "source": [
    "from keras.datasets import imdb\n",
    "\n",
    "(train_data, train_labels), (test_data, test_labels) = imdb.load_data(num_words=10000)"
   ]
  },
  {
   "cell_type": "markdown",
   "metadata": {},
   "source": [
    "Аргумент **num_words = 10000** означает, что мы будем использовать только 10 000 самых частовстречающихся слов в тренировочной выборке. Редкие слова будут отброшены. Это позволяет нам работать с вектором данных управляемого размера.\n",
    "\n",
    "Переменные **train_data** и **test_data** представляют собой списке обзоров, где каждый обзор является списком индексов слов (кодируют последовательности слов).\n",
    "**train_labels** и **test_labels** являются списками 0 и 1, где 0 соответствует *негативному отзыву* и 1 соответствует *позитивному отзыву*.\n",
    "\n",
    "Рассмотрим тренировочные данные и их метки:"
   ]
  },
  {
   "cell_type": "code",
   "execution_count": 2,
   "metadata": {
    "collapsed": false
   },
   "outputs": [
    {
     "data": {
      "text/plain": [
       "[1,\n",
       " 14,\n",
       " 22,\n",
       " 16,\n",
       " 43,\n",
       " 530,\n",
       " 973,\n",
       " 1622,\n",
       " 1385,\n",
       " 65,\n",
       " 458,\n",
       " 4468,\n",
       " 66,\n",
       " 3941,\n",
       " 4,\n",
       " 173,\n",
       " 36,\n",
       " 256,\n",
       " 5,\n",
       " 25,\n",
       " 100,\n",
       " 43,\n",
       " 838,\n",
       " 112,\n",
       " 50,\n",
       " 670,\n",
       " 2,\n",
       " 9,\n",
       " 35,\n",
       " 480,\n",
       " 284,\n",
       " 5,\n",
       " 150,\n",
       " 4,\n",
       " 172,\n",
       " 112,\n",
       " 167,\n",
       " 2,\n",
       " 336,\n",
       " 385,\n",
       " 39,\n",
       " 4,\n",
       " 172,\n",
       " 4536,\n",
       " 1111,\n",
       " 17,\n",
       " 546,\n",
       " 38,\n",
       " 13,\n",
       " 447,\n",
       " 4,\n",
       " 192,\n",
       " 50,\n",
       " 16,\n",
       " 6,\n",
       " 147,\n",
       " 2025,\n",
       " 19,\n",
       " 14,\n",
       " 22,\n",
       " 4,\n",
       " 1920,\n",
       " 4613,\n",
       " 469,\n",
       " 4,\n",
       " 22,\n",
       " 71,\n",
       " 87,\n",
       " 12,\n",
       " 16,\n",
       " 43,\n",
       " 530,\n",
       " 38,\n",
       " 76,\n",
       " 15,\n",
       " 13,\n",
       " 1247,\n",
       " 4,\n",
       " 22,\n",
       " 17,\n",
       " 515,\n",
       " 17,\n",
       " 12,\n",
       " 16,\n",
       " 626,\n",
       " 18,\n",
       " 2,\n",
       " 5,\n",
       " 62,\n",
       " 386,\n",
       " 12,\n",
       " 8,\n",
       " 316,\n",
       " 8,\n",
       " 106,\n",
       " 5,\n",
       " 4,\n",
       " 2223,\n",
       " 5244,\n",
       " 16,\n",
       " 480,\n",
       " 66,\n",
       " 3785,\n",
       " 33,\n",
       " 4,\n",
       " 130,\n",
       " 12,\n",
       " 16,\n",
       " 38,\n",
       " 619,\n",
       " 5,\n",
       " 25,\n",
       " 124,\n",
       " 51,\n",
       " 36,\n",
       " 135,\n",
       " 48,\n",
       " 25,\n",
       " 1415,\n",
       " 33,\n",
       " 6,\n",
       " 22,\n",
       " 12,\n",
       " 215,\n",
       " 28,\n",
       " 77,\n",
       " 52,\n",
       " 5,\n",
       " 14,\n",
       " 407,\n",
       " 16,\n",
       " 82,\n",
       " 2,\n",
       " 8,\n",
       " 4,\n",
       " 107,\n",
       " 117,\n",
       " 5952,\n",
       " 15,\n",
       " 256,\n",
       " 4,\n",
       " 2,\n",
       " 7,\n",
       " 3766,\n",
       " 5,\n",
       " 723,\n",
       " 36,\n",
       " 71,\n",
       " 43,\n",
       " 530,\n",
       " 476,\n",
       " 26,\n",
       " 400,\n",
       " 317,\n",
       " 46,\n",
       " 7,\n",
       " 4,\n",
       " 2,\n",
       " 1029,\n",
       " 13,\n",
       " 104,\n",
       " 88,\n",
       " 4,\n",
       " 381,\n",
       " 15,\n",
       " 297,\n",
       " 98,\n",
       " 32,\n",
       " 2071,\n",
       " 56,\n",
       " 26,\n",
       " 141,\n",
       " 6,\n",
       " 194,\n",
       " 7486,\n",
       " 18,\n",
       " 4,\n",
       " 226,\n",
       " 22,\n",
       " 21,\n",
       " 134,\n",
       " 476,\n",
       " 26,\n",
       " 480,\n",
       " 5,\n",
       " 144,\n",
       " 30,\n",
       " 5535,\n",
       " 18,\n",
       " 51,\n",
       " 36,\n",
       " 28,\n",
       " 224,\n",
       " 92,\n",
       " 25,\n",
       " 104,\n",
       " 4,\n",
       " 226,\n",
       " 65,\n",
       " 16,\n",
       " 38,\n",
       " 1334,\n",
       " 88,\n",
       " 12,\n",
       " 16,\n",
       " 283,\n",
       " 5,\n",
       " 16,\n",
       " 4472,\n",
       " 113,\n",
       " 103,\n",
       " 32,\n",
       " 15,\n",
       " 16,\n",
       " 5345,\n",
       " 19,\n",
       " 178,\n",
       " 32]"
      ]
     },
     "execution_count": 2,
     "metadata": {},
     "output_type": "execute_result"
    }
   ],
   "source": [
    "train_data[0]"
   ]
  },
  {
   "cell_type": "code",
   "execution_count": 3,
   "metadata": {
    "collapsed": false
   },
   "outputs": [
    {
     "data": {
      "text/plain": [
       "1"
      ]
     },
     "execution_count": 3,
     "metadata": {},
     "output_type": "execute_result"
    }
   ],
   "source": [
    "train_labels[0]"
   ]
  },
  {
   "cell_type": "markdown",
   "metadata": {},
   "source": [
    "Поскольку мы ограничили себя 10 000 самых частовстречаемых слов, нет индексов слов, которые превосходят эту цифру. \n",
    "Проверим это:"
   ]
  },
  {
   "cell_type": "code",
   "execution_count": 4,
   "metadata": {
    "collapsed": false
   },
   "outputs": [
    {
     "data": {
      "text/plain": [
       "9999"
      ]
     },
     "execution_count": 4,
     "metadata": {},
     "output_type": "execute_result"
    }
   ],
   "source": [
    "max([max(sequence) for sequence in train_data])"
   ]
  },
  {
   "cell_type": "markdown",
   "metadata": {},
   "source": [
    "А вот так мы можем быстро декондировать отзыв обратно в слова:"
   ]
  },
  {
   "cell_type": "code",
   "execution_count": 5,
   "metadata": {
    "collapsed": false
   },
   "outputs": [
    {
     "name": "stdout",
     "output_type": "stream",
     "text": [
      "Downloading data from https://s3.amazonaws.com/text-datasets/imdb_word_index.json\n",
      "1605632/1641221 [============================>.] - ETA: 0s"
     ]
    }
   ],
   "source": [
    "# word_index - словарь, отображающий слова в целые числа\n",
    "word_index = imdb.get_word_index()\n",
    "\n",
    "# Мы \"обращаем\" его, отображая целые числа в слова\n",
    "reverse_word_index = dict([(value, key) for (key, value) in word_index.items()])\n",
    "\n",
    "# Теперь декодируем отзыв \n",
    "# Заметим, что индексы \"смещены\" на 3\n",
    "# 0,1,2 зарезервировано для padding, начала последовательности и \"неизвестного\" \n",
    "\n",
    "decoded_review  = ' '.join([reverse_word_index.get(i-3, '?') for i in train_data[0]])"
   ]
  },
  {
   "cell_type": "code",
   "execution_count": 6,
   "metadata": {
    "collapsed": false
   },
   "outputs": [
    {
     "data": {
      "text/plain": [
       "\"? this film was just brilliant casting location scenery story direction everyone's really suited the part they played and you could just imagine being there robert ? is an amazing actor and now the same being director ? father came from the same scottish island as myself so i loved the fact there was a real connection with this film the witty remarks throughout the film were great it was just brilliant so much that i bought the film as soon as it was released for ? and would recommend it to everyone to watch and the fly fishing was amazing really cried at the end it was so sad and you know what they say if you cry at a film it must have been good and this definitely was also ? to the two little boy's that played the ? of norman and paul they were just brilliant children are often left out of the ? list i think because the stars that play them all grown up are such a big profile for the whole film but these children are amazing and should be praised for what they have done don't you think the whole story was so lovely because it was true and was someone's life after all that was shared with us all\""
      ]
     },
     "execution_count": 6,
     "metadata": {},
     "output_type": "execute_result"
    }
   ],
   "source": [
    "decoded_review"
   ]
  },
  {
   "cell_type": "markdown",
   "metadata": {},
   "source": [
    "### Подготовка данных\n",
    "\n",
    "Мы не можем сразу же отправить списки чисел в нейронную сеть. Мы должны преобразовать эти списки в тензорный формат.\n",
    "Есть два способа, чтобы сделать это:\n",
    "\n",
    "* Можно выровнять списки таким образом, чтобы они имели одинаковую длину и преобразовать их в целочисленный тензор размерности $(samples; word\\_indices)$, а затем использовать как первый слой в нашей нейросети как слой, способный обрабатывать такие целочисленные тензоры (т.н. Embedding слой - который будет рассмотрен в дальнейшем курсе лекций).\n",
    "* Можно произвести унитарное кодирование (one hot encode) списков чтобы преобразовать их в векторы нулей и единиц. Например, преобразование последовательности [3;5] в 10 000-мерный вектор, будет содержать все нули, за исключением 3 и 5 компонент, которые будут равны единице. Затем, мы можем использовать как первый слой в сети плотный слой (Dense layer), способный обрабатывать вещественные вектора данных.\n",
    "\n",
    "Рассмотрим (пока) последнее решение. Векторизуем данные самостоятельно:"
   ]
  },
  {
   "cell_type": "code",
   "execution_count": null,
   "metadata": {
    "collapsed": true
   },
   "outputs": [],
   "source": [
    "# Преобразование последовательности целых чисел в бинарную матрицу\n",
    "import numpy as np\n",
    "\n",
    "def vectorize_sequences(sequences, dimension = 10000):\n",
    "    # Создание нулевой матрицы:\n",
    "    results = np.zeros((len(sequences), dimension))\n",
    "    for i, sequence in enumerate(sequences):\n",
    "        # Устанавливаем конкретные индексы в единицу\n",
    "        results[i, sequence] = 1\n",
    "    return results\n",
    "\n",
    "# Векторизация тренировочной выборки\n",
    "x_train = vectorize_sequences(train_data)\n",
    "# Векторищация тестовой выборки\n",
    "x_test = vectorize_sequences(test_data)"
   ]
  },
  {
   "cell_type": "markdown",
   "metadata": {},
   "source": [
    "Посмотрим на результат:"
   ]
  },
  {
   "cell_type": "code",
   "execution_count": 13,
   "metadata": {
    "collapsed": false
   },
   "outputs": [
    {
     "data": {
      "text/plain": [
       "array([ 0.,  1.,  1., ...,  0.,  0.,  0.])"
      ]
     },
     "execution_count": 13,
     "metadata": {},
     "output_type": "execute_result"
    }
   ],
   "source": [
    "x_train[0]"
   ]
  },
  {
   "cell_type": "markdown",
   "metadata": {},
   "source": [
    "Также следует векторизовать метки классов.\n",
    "Что достаточно просто:"
   ]
  },
  {
   "cell_type": "code",
   "execution_count": 12,
   "metadata": {
    "collapsed": true
   },
   "outputs": [],
   "source": [
    "y_train = np.asarray(train_labels).astype('float32')\n",
    "y_test = np.asarray(test_labels).astype('float32')"
   ]
  },
  {
   "cell_type": "markdown",
   "metadata": {},
   "source": [
    "Итак, сейчас данные готовы к передачи в нейронную сеть\n",
    "\n",
    "## Построение нейронной сети\n",
    "\n",
    "Входные данные в нашем случае представляют собой вектора, а метки - скаляры (0 и 1): это достаточно простая конфигурация.\n",
    "\n",
    "Тип сети, который достаточно хорошо справляется с рассматриваемой проблемой (точнее, представлением) - просто стек плотных слоев (dense layers) с функцией активации relu:\n",
    "    Dense(16, activation='relu')\n",
    "   \n",
    "Аргумент 16 - это число \"скрытых единиц (hidden unit)\" в слое. Что такое hidden unit? Это размер в пространстве представления слоя (representation space of the layer).\n",
    "\n",
    "Каждый слой Dense с функцией активации relu выполняет следующую цепочку операций на тензорах:\n",
    "$$ output = relu(Wx + b)$$\n",
    "где $x$ - входной вектор.\n",
    "\n",
    "16 скрытых единиц будет означать, что матрица весов $W$ будет иметь пространство $(input\\_dimension, 16)$, т.е. скалярное произведение $W$ с входным вектором будет проецировать входные данные в 16 мерное пространство представления слоя (и затем мы можем добавить вектор смещения $b$ и применить операцию ReLU). \n",
    "\n",
    "Интуитивно, это можно понимать размерность пространства представления как \"как много свободы вы даете нейросети при изучении внутренних репрезентаций\".\n",
    "Чем больше скрытых единиц (многомерное пространство представления) позволяет нейронной сети изучить более сложные репрезентации, но это делает вашу сеть более дорогостоящей в вычислительном плане и может привести к нежелательным паттернам (например, переобучению).\n",
    "\n",
    "Необходимо сделать два ключевых архитектурных решения как \"складывать\" плотные слои:\n",
    "* Как много слоев использовать;\n",
    "* Как много \"скрытых единиц\" выбрать для каждого слоя.\n",
    "\n",
    "В последующем мы рассмотрим формальные принципы. Но сейчас остановимся на сл. архитектуре:\n",
    "* два промежуточных слоя с 16 скрытыми единицами;\n",
    "* третий слой, который выводит скалярное предсказание относительно тональности текущего текста (обзора);\n",
    "\n",
    "Промежуточгные слои будут использовать в качестве функции активации ReLU, а финальный уровень будет использовать сигмоидальную функцию активации, чтобы получить вероятность.\n",
    "\n",
    "Функция ReLU:\n",
    "![](https://dpzbhybb2pdcj.cloudfront.net/chollet/v-6/Figures/relu.png)\n",
    "\n",
    "Сигмоидальная функция:\n",
    "![](https://dpzbhybb2pdcj.cloudfront.net/chollet/v-6/Figures/sigmoid.png)"
   ]
  },
  {
   "cell_type": "markdown",
   "metadata": {},
   "source": [
    "Итак, наша нейронная сеть будет выглядеть сл. образом:\n",
    "![](https://dpzbhybb2pdcj.cloudfront.net/chollet/v-6/Figures/3_layer_network.png)"
   ]
  },
  {
   "cell_type": "markdown",
   "metadata": {},
   "source": [
    "Определим эту нейросеть на Keras:"
   ]
  },
  {
   "cell_type": "code",
   "execution_count": 14,
   "metadata": {
    "collapsed": true
   },
   "outputs": [],
   "source": [
    "from keras import models\n",
    "from keras import layers\n",
    "\n",
    "model = models.Sequential()\n",
    "model.add(layers.Dense(16, activation='relu', input_shape=(10000,)))\n",
    "model.add(layers.Dense(16, activation='relu'))\n",
    "model.add(layers.Dense(1, activation='sigmoid'))"
   ]
  },
  {
   "cell_type": "markdown",
   "metadata": {},
   "source": [
    "#### Ремарка: Что такое функции активации и почему они необходимы?\n",
    "\n",
    "Без использования функций активации (например, relu), плотный слой Dense будет содержать просто две линейные операции: скалярное произведение и сложение:\n",
    "$$ output = Wx + b$$\n",
    "\n",
    "Поэтому, слой может обучаться только линейным преобрразованиям (ффинным преобразованиям) входных данных, т.е. пространство гипотез слоя может быть лишь множеством всевозможных линейных преобразований входных данных в 16 мерном простраранстве. Такое пространство гипотез достаточно ограничено и мы не будем иметь каких-либо преимуществ от подобных репрезентаций (**почему???**)."
   ]
  },
  {
   "cell_type": "markdown",
   "metadata": {},
   "source": [
    "Для того, чтобы расширить пространство гипотез, и получать преимущество оот глубоких прдставлений, необходима нелинейность, или функции активации. \n",
    "ReLU - одна из самых популярных функций активации в глубоком обучении, но существует также много других функций активации со странными именами: prelu, elu, и т.д."
   ]
  },
  {
   "cell_type": "markdown",
   "metadata": {},
   "source": [
    "Наконец, нам нужно выбрать функцию потерь и оптимизатор. Мы рассматриваем проблему бинарной классификации, а на выходе сети получаем вероятность, поэтому наилучшей функцией потерь является бинарная кросс-энтропия **binary_crossentropy**. \n",
    "\n",
    "Это не единственный выбор, вы можете выбрать хоть **mean_squared_error**. Но росс-энтропия **обычно** является наилучшим выбором, в тех случаях, когда мы имеем дело с моделями, выходом которых являются вероятности.\n",
    "\n",
    "Кросс-энтропия - это количественная мера из области теории информации, которая измеряет \"дистанцию\" между вероятностными распределениями, или , в нашем случае, между истинным распределением и нашими предсказаниями.\n",
    "\n",
    "Еще одним шагом при определении нашей модели является выбор оптимизатора. Мы сконфигурируем нашу модель с оптимизатором rmsprop и бинарной кросс-энтропией как функцию потерь.\n",
    "Также укажем, что мы хотим мониторить точность в ходе обучения."
   ]
  },
  {
   "cell_type": "code",
   "execution_count": 15,
   "metadata": {
    "collapsed": true
   },
   "outputs": [],
   "source": [
    "model.compile(optimizer='rmsprop',\n",
    "              loss='binary_crossentropy',\n",
    "              metrics=['accuracy'])"
   ]
  },
  {
   "cell_type": "markdown",
   "metadata": {},
   "source": [
    "Мы передали параметры как строки, что является возможным, поскольку rmsprop, banary_crossentropy и accuracy являются частью Keras.\n",
    "\n",
    "Иногда Вы можете захотеть сконфигурировать параметры оптимизатора, или передать произвольную функцию потерь, или произвольную метрику.\n",
    "Это может быть сделано передачей объекта класса optimizer как аргумента.\n"
   ]
  },
  {
   "cell_type": "code",
   "execution_count": 16,
   "metadata": {
    "collapsed": true
   },
   "outputs": [],
   "source": [
    "from keras import optimizers\n",
    "\n",
    "model.compile(optimizer=optimizers.RMSprop(lr=0.001),\n",
    "              loss='binary_crossentropy',\n",
    "              metrics=['accuracy'])"
   ]
  },
  {
   "cell_type": "code",
   "execution_count": 17,
   "metadata": {
    "collapsed": true
   },
   "outputs": [],
   "source": [
    "from keras import losses\n",
    "from keras import metrics\n",
    "\n",
    "model.compile(optimizer=optimizers.RMSprop(lr=0.001),\n",
    "              loss=losses.binary_crossentropy,\n",
    "              metrics=[metrics.binary_accuracy])"
   ]
  },
  {
   "cell_type": "markdown",
   "metadata": {},
   "source": [
    "### Проверка подхода\n",
    "\n",
    "Чтобы мониторить точность модели в ходе обучения на данных которые никогда ранее не встречались, создается так называемая контрольная выборка (validation set):"
   ]
  },
  {
   "cell_type": "code",
   "execution_count": null,
   "metadata": {
    "collapsed": true
   },
   "outputs": [],
   "source": [
    "x_val = x_train[:10000]\n",
    "partial_x_train = x_train[10000:]\n",
    "\n",
    "y_val = y_train[:10000]\n",
    "partial_y_train = y_train[10000:]"
   ]
  },
  {
   "cell_type": "markdown",
   "metadata": {},
   "source": [
    "Обучим нашу модель на 20 эпох (т.е. 20 итераций по всем объектам в тензорах X_train и y_train) в мини-пакетах (mini-batches) по 512 объектов.\n",
    "\n",
    "В то же время, будем мониторить потери и точность на 10 000 объектах контрольной выборки. Это делается посредством передачи контрольных данных с помощью аргумента validation_data:\n"
   ]
  },
  {
   "cell_type": "code",
   "execution_count": 19,
   "metadata": {
    "collapsed": false
   },
   "outputs": [
    {
     "name": "stdout",
     "output_type": "stream",
     "text": [
      "Train on 15000 samples, validate on 10000 samples\n",
      "Epoch 1/20\n",
      "15000/15000 [==============================] - 24s - loss: 0.5136 - binary_accuracy: 0.7920 - val_loss: 0.4026 - val_binary_accuracy: 0.8628\n",
      "Epoch 2/20\n",
      "15000/15000 [==============================] - 4s - loss: 0.3132 - binary_accuracy: 0.9033 - val_loss: 0.3171 - val_binary_accuracy: 0.88290.\n",
      "Epoch 3/20\n",
      "15000/15000 [==============================] - 3s - loss: 0.2294 - binary_accuracy: 0.9249 - val_loss: 0.2799 - val_binary_accuracy: 0.8917\n",
      "Epoch 4/20\n",
      "15000/15000 [==============================] - 3s - loss: 0.1794 - binary_accuracy: 0.9428 - val_loss: 0.2734 - val_binary_accuracy: 0.8907\n",
      "Epoch 5/20\n",
      "15000/15000 [==============================] - 3s - loss: 0.1481 - binary_accuracy: 0.9528 - val_loss: 0.2788 - val_binary_accuracy: 0.8889\n",
      "Epoch 6/20\n",
      "15000/15000 [==============================] - 3s - loss: 0.1195 - binary_accuracy: 0.9630 - val_loss: 0.3257 - val_binary_accuracy: 0.8798\n",
      "Epoch 7/20\n",
      "15000/15000 [==============================] - 3s - loss: 0.1021 - binary_accuracy: 0.9696 - val_loss: 0.3059 - val_binary_accuracy: 0.8848\n",
      "Epoch 8/20\n",
      "15000/15000 [==============================] - 3s - loss: 0.0836 - binary_accuracy: 0.9761 - val_loss: 0.3379 - val_binary_accuracy: 0.8768\n",
      "Epoch 9/20\n",
      "15000/15000 [==============================] - 3s - loss: 0.0719 - binary_accuracy: 0.9810 - val_loss: 0.3622 - val_binary_accuracy: 0.8790\n",
      "Epoch 10/20\n",
      "15000/15000 [==============================] - 3s - loss: 0.0573 - binary_accuracy: 0.9863 - val_loss: 0.3744 - val_binary_accuracy: 0.8807\n",
      "Epoch 11/20\n",
      "15000/15000 [==============================] - 3s - loss: 0.0481 - binary_accuracy: 0.9891 - val_loss: 0.4013 - val_binary_accuracy: 0.8781\n",
      "Epoch 12/20\n",
      "15000/15000 [==============================] - 3s - loss: 0.0381 - binary_accuracy: 0.9921 - val_loss: 0.4423 - val_binary_accuracy: 0.8776\n",
      "Epoch 13/20\n",
      "15000/15000 [==============================] - 3s - loss: 0.0293 - binary_accuracy: 0.9947 - val_loss: 0.4592 - val_binary_accuracy: 0.8759\n",
      "Epoch 14/20\n",
      "15000/15000 [==============================] - 3s - loss: 0.0238 - binary_accuracy: 0.9959 - val_loss: 0.4834 - val_binary_accuracy: 0.8737\n",
      "Epoch 15/20\n",
      "15000/15000 [==============================] - 3s - loss: 0.0194 - binary_accuracy: 0.9968 - val_loss: 0.5651 - val_binary_accuracy: 0.8688\n",
      "Epoch 16/20\n",
      "15000/15000 [==============================] - 3s - loss: 0.0120 - binary_accuracy: 0.9993 - val_loss: 0.5551 - val_binary_accuracy: 0.8729\n",
      "Epoch 17/20\n",
      "15000/15000 [==============================] - 3s - loss: 0.0122 - binary_accuracy: 0.9985 - val_loss: 0.5804 - val_binary_accuracy: 0.8718\n",
      "Epoch 18/20\n",
      "15000/15000 [==============================] - 4s - loss: 0.0094 - binary_accuracy: 0.9983 - val_loss: 0.6068 - val_binary_accuracy: 0.8683\n",
      "Epoch 19/20\n",
      "15000/15000 [==============================] - 4s - loss: 0.0082 - binary_accuracy: 0.9985 - val_loss: 0.6365 - val_binary_accuracy: 0.8669\n",
      "Epoch 20/20\n",
      "15000/15000 [==============================] - 3s - loss: 0.0038 - binary_accuracy: 0.9999 - val_loss: 0.6698 - val_binary_accuracy: 0.8680\n"
     ]
    }
   ],
   "source": [
    "history = model.fit(partial_x_train,\n",
    "                    partial_y_train,\n",
    "                    epochs=20,\n",
    "                    batch_size=512,\n",
    "                    validation_data=(x_val, y_val))"
   ]
  },
  {
   "cell_type": "markdown",
   "metadata": {},
   "source": [
    "По завершении каждой эпохи, происходит вычисление точности и потери на 10 000 объектов контрольной выборки.\n",
    "\n",
    "Следует также щаменить, что model.fit() возвращает объект класса History. Этот объект имеет поле history, являющееся словарем, содержащим данные обо всем, что происходит во время обучения."
   ]
  },
  {
   "cell_type": "code",
   "execution_count": 20,
   "metadata": {
    "collapsed": false
   },
   "outputs": [
    {
     "data": {
      "text/plain": [
       "dict_keys(['val_loss', 'val_binary_accuracy', 'loss', 'binary_accuracy'])"
      ]
     },
     "execution_count": 20,
     "metadata": {},
     "output_type": "execute_result"
    }
   ],
   "source": [
    "history_dict = history.history\n",
    "history_dict.keys()"
   ]
  },
  {
   "cell_type": "markdown",
   "metadata": {},
   "source": [
    "Он содержит 4 поля: по одной метрике, которая мониторилась во время обучения и проверки.\n",
    "Используя Matplotlib можно построить графики потерь для тернировочной и контрольной выборки, как и верность.\n"
   ]
  },
  {
   "cell_type": "code",
   "execution_count": 22,
   "metadata": {
    "collapsed": false
   },
   "outputs": [
    {
     "data": {
      "image/png": "[encoded data removed]",
      "text/plain": [
       "<matplotlib.figure.Figure at 0x22689ef00b8>"
      ]
     },
     "metadata": {},
     "output_type": "display_data"
    }
   ],
   "source": [
    "import matplotlib.pyplot as plt\n",
    "\n",
    "acc = history.history['binary_accuracy']\n",
    "val_acc = history.history['val_binary_accuracy']\n",
    "loss = history.history['loss']\n",
    "val_loss = history.history['val_loss']\n",
    "\n",
    "epochs = range(1, len(acc) + 1)\n",
    "\n",
    "# \"bo\" is for \"blue dot\"\n",
    "plt.plot(epochs, loss, 'bo', label='Training loss')\n",
    "# b is for \"solid blue line\"\n",
    "plt.plot(epochs, val_loss, 'b', label='Validation loss')\n",
    "plt.title('Training and validation loss')\n",
    "plt.xlabel('Epochs')\n",
    "plt.ylabel('Loss')\n",
    "plt.legend()\n",
    "\n",
    "plt.show()"
   ]
  },
  {
   "cell_type": "code",
   "execution_count": 24,
   "metadata": {
    "collapsed": false
   },
   "outputs": [
    {
     "data": {
      "image/png": "[encoded data removed]",
      "text/plain": [
       "<matplotlib.figure.Figure at 0x22689fca320>"
      ]
     },
     "metadata": {},
     "output_type": "display_data"
    }
   ],
   "source": [
    "plt.clf()   # clear figure\n",
    "acc_values = history_dict['binary_accuracy']\n",
    "val_acc_values = history_dict['val_binary_accuracy']\n",
    "\n",
    "plt.plot(epochs, acc, 'bo', label='Training acc')\n",
    "plt.plot(epochs, val_acc, 'b', label='Validation acc')\n",
    "plt.title('Training and validation accuracy')\n",
    "plt.xlabel('Epochs')\n",
    "plt.ylabel('Loss')\n",
    "plt.legend()\n",
    "\n",
    "plt.show()"
   ]
  },
  {
   "cell_type": "markdown",
   "metadata": {},
   "source": [
    "Значение потерь на тренировочной выборки уменьшается с каждой эпохов, в то время как точность на тренировочной выборке возрастает. \n",
    "Это то, что мы ожидаем от градиентного спуска - количественные показатели, которые должны минимизироваться с каждой итерацией. Но это не так для функции потерь в контрольной выборке! Они достигают пика гд-то в 4 эпоху. \n",
    "\n",
    "Это как раз тот случай, о котором мы говорили ранее: модель все лучше описывает данные на тренировочной выборке и в результате начинает излишне адоптироваться к ней, мешая, таким образом, генерализации.\n",
    "\n",
    "В нашем простом случае, чтобы предотвратить переобучение достаточно было бы остановить обучение после 3 эпох. Разумеется, есть и более сложные методы борьбы с переобучением.\n",
    "\n"
   ]
  },
  {
   "cell_type": "code",
   "execution_count": 25,
   "metadata": {
    "collapsed": false
   },
   "outputs": [
    {
     "name": "stdout",
     "output_type": "stream",
     "text": [
      "Epoch 1/4\n",
      "25000/25000 [==============================] - 14s - loss: 0.4717 - acc: 0.8106    \n",
      "Epoch 2/4\n",
      "25000/25000 [==============================] - 4s - loss: 0.2651 - acc: 0.9080     \n",
      "Epoch 3/4\n",
      "25000/25000 [==============================] - 4s - loss: 0.2023 - acc: 0.9277     \n",
      "Epoch 4/4\n",
      "25000/25000 [==============================] - 4s - loss: 0.1687 - acc: 0.9402     \n",
      "24992/25000 [============================>.] - ETA: 0s"
     ]
    }
   ],
   "source": [
    "model = models.Sequential()\n",
    "model.add(layers.Dense(16, activation='relu', input_shape=(10000,)))\n",
    "model.add(layers.Dense(16, activation='relu'))\n",
    "model.add(layers.Dense(1, activation='sigmoid'))\n",
    "\n",
    "model.compile(optimizer='rmsprop',\n",
    "              loss='binary_crossentropy',\n",
    "              metrics=['accuracy'])\n",
    "\n",
    "model.fit(x_train, y_train, epochs=4, batch_size=512)\n",
    "results = model.evaluate(x_test, y_test)"
   ]
  },
  {
   "cell_type": "code",
   "execution_count": 26,
   "metadata": {
    "collapsed": false
   },
   "outputs": [
    {
     "data": {
      "text/plain": [
       "[0.2911977368068695, 0.88500000000000001]"
      ]
     },
     "execution_count": 26,
     "metadata": {},
     "output_type": "execute_result"
    }
   ],
   "source": [
    "results"
   ]
  },
  {
   "cell_type": "markdown",
   "metadata": {},
   "source": [
    "Итак, наш наивный подход достиг точности 88%. Современные подходы способны приблизиться к 95% точности.\n",
    "\n",
    "## Использование обученной модели для генерации предсказаний на новых данных\n",
    "\n",
    "После обучения нейронной сети, её можно использовать на практике. Можно породить вероятность позитивной тональности с использованием метода predict:"
   ]
  },
  {
   "cell_type": "code",
   "execution_count": 27,
   "metadata": {
    "collapsed": false
   },
   "outputs": [
    {
     "data": {
      "text/plain": [
       "array([[ 0.923392  ],\n",
       "       [ 0.83488482],\n",
       "       [ 0.99946672],\n",
       "       ..., \n",
       "       [ 0.44186568],\n",
       "       [ 0.00358829],\n",
       "       [ 0.80997139]], dtype=float32)"
      ]
     },
     "execution_count": 27,
     "metadata": {},
     "output_type": "execute_result"
    }
   ],
   "source": [
    "model.predict(x_test)"
   ]
  },
  {
   "cell_type": "markdown",
   "metadata": {},
   "source": [
    "Как можно заметить, нейронная сеть очень уверена для одних ответов (вероятность более 0.99, или менее 0.01) но менее уверена для других."
   ]
  },
  {
   "cell_type": "markdown",
   "metadata": {},
   "source": [
    "**Упражнения:**\n",
    "* Использовались 2 скрытых уровня сети. Попробуйте использовать 1 или 3 скрытых уровня нейронной сети и посмотрите как это влияет на точность контрольной и тестовой выборки;\n",
    "* Попробуйте использовать слои с большим числом скрытых единиц (нейронов) в слое: 32, 64 и т.д.\n",
    "* Попробуйте использовать mse в качестве функции потерь (вместо binary_crossentropy); \n",
    "* Попробуйте использовать в качестве функции активации tanh (вместо relu);"
   ]
  },
  {
   "cell_type": "markdown",
   "metadata": {},
   "source": [
    "## Пример: многоклассовая классификация (классификация новостей)"
   ]
  },
  {
   "cell_type": "markdown",
   "metadata": {},
   "source": [
    "Итак, мы рассмотрели, как классифицировать данные, с двумя взаимоисключающими классами с использованием плотной нейронной сети.\n",
    "\n",
    "Но что происходит когда классов больше двух?\n",
    "\n",
    "Рассмотрим другой case: построим нейронную сеть, для классификации новостей из Reuters по 46 разным взаимоисключающим категориям.\n",
    "Эта проблема называется многоклассовой классификацией (multiclass classification).\n",
    "\n",
    "### Reuters dataset\n",
    "\n",
    "Будем работать с набором данных Reuters, который содержит множество коротких новостей и их темы, опубликованые Reuters в 1986 году. Это достаточно простой, широко распространенный набор для классификации.\n",
    "Есть 46 тем, некоторые темы более репрезентативны, чем другие, но каждая тема имеет как минимум 10 обхектов в тренировочной выборке.\n",
    "\n",
    "Как и IMDB и MNIST, Reuters поставляется как часть Keras."
   ]
  },
  {
   "cell_type": "code",
   "execution_count": 28,
   "metadata": {
    "collapsed": false
   },
   "outputs": [
    {
     "name": "stdout",
     "output_type": "stream",
     "text": [
      "Downloading data from https://s3.amazonaws.com/text-datasets/reuters.npz\n",
      "2023424/2110848 [===========================>..] - ETA: 0s"
     ]
    }
   ],
   "source": [
    "from keras.datasets import reuters\n",
    "\n",
    "(train_data, train_labels), (test_data, test_labels) = reuters.load_data(num_words=10000)"
   ]
  },
  {
   "cell_type": "markdown",
   "metadata": {},
   "source": [
    "Как и с IMDB ограничим себя 10 000 наиболее частовстречающимися словами.\n",
    "\n",
    "Посмотрим на объем выборки:"
   ]
  },
  {
   "cell_type": "code",
   "execution_count": 29,
   "metadata": {
    "collapsed": false
   },
   "outputs": [
    {
     "data": {
      "text/plain": [
       "8982"
      ]
     },
     "execution_count": 29,
     "metadata": {},
     "output_type": "execute_result"
    }
   ],
   "source": [
    "len(train_data)"
   ]
  },
  {
   "cell_type": "code",
   "execution_count": 30,
   "metadata": {
    "collapsed": false
   },
   "outputs": [
    {
     "data": {
      "text/plain": [
       "2246"
      ]
     },
     "execution_count": 30,
     "metadata": {},
     "output_type": "execute_result"
    }
   ],
   "source": [
    "len(test_data)"
   ]
  },
  {
   "cell_type": "markdown",
   "metadata": {},
   "source": [
    "Построим декодер, чтобы мы могли преобразовывать цифровую репрезентацию отзыва в обычные слова:"
   ]
  },
  {
   "cell_type": "code",
   "execution_count": 31,
   "metadata": {
    "collapsed": false
   },
   "outputs": [
    {
     "name": "stdout",
     "output_type": "stream",
     "text": [
      "Downloading data from https://s3.amazonaws.com/text-datasets/reuters_word_index.json\n",
      "540672/550378 [============================>.] - ETA: 0s"
     ]
    }
   ],
   "source": [
    "word_index = reuters.get_word_index()\n",
    "reverse_word_index = dict([(value, key) for (key, value) in word_index.items()])\n",
    "# Note that our indices were offset by 3\n",
    "# because 0, 1 and 2 are reserved indices for \"padding\", \"start of sequence\", and \"unknown\".\n",
    "decoded_newswire = ' '.join([reverse_word_index.get(i - 3, '?') for i in train_data[0]])"
   ]
  },
  {
   "cell_type": "markdown",
   "metadata": {},
   "source": [
    "Метки, ассоциированные с примерами пронумерованы числами от 0 до 45: индекс темы."
   ]
  },
  {
   "cell_type": "code",
   "execution_count": 32,
   "metadata": {
    "collapsed": false
   },
   "outputs": [
    {
     "data": {
      "text/plain": [
       "3"
      ]
     },
     "execution_count": 32,
     "metadata": {},
     "output_type": "execute_result"
    }
   ],
   "source": [
    "train_labels[10]"
   ]
  },
  {
   "cell_type": "markdown",
   "metadata": {},
   "source": [
    "### Подготовка данных\n",
    "\n",
    "Мы можем векторизовать данные таким же образом, как и ранее:"
   ]
  },
  {
   "cell_type": "code",
   "execution_count": 33,
   "metadata": {
    "collapsed": true
   },
   "outputs": [],
   "source": [
    "import numpy as np\n",
    "\n",
    "def vectorize_sequences(sequences, dimension=10000):\n",
    "    results = np.zeros((len(sequences), dimension))\n",
    "    for i, sequence in enumerate(sequences):\n",
    "        results[i, sequence] = 1.\n",
    "    return results\n",
    "\n",
    "# Our vectorized training data\n",
    "x_train = vectorize_sequences(train_data)\n",
    "# Our vectorized test data\n",
    "x_test = vectorize_sequences(test_data)"
   ]
  },
  {
   "cell_type": "markdown",
   "metadata": {},
   "source": [
    "Для векторизации меток есть две возможности:\n",
    "* Использовать список меток как целочисленный тензор;\n",
    "* Использовать унитарное кодирование;\n",
    "\n",
    "Унитарное кодирование (one-hot encoding) - ширико используемый формат для категориальных данных, также называемый категориальным кодированием.\n",
    "\n",
    "В нашем случае, унитарное кодирование меток состоит в том, что каждой метке ставится в соответствие вектор, содержащий единицу в размерности, равной индексу метки, а в остальных компонентах - нули.\n"
   ]
  },
  {
   "cell_type": "code",
   "execution_count": 34,
   "metadata": {
    "collapsed": true
   },
   "outputs": [],
   "source": [
    "def to_one_hot(labels, dimension=46):\n",
    "    results = np.zeros((len(labels), dimension))\n",
    "    for i, label in enumerate(labels):\n",
    "        results[i, label] = 1.\n",
    "    return results\n",
    "\n",
    "# Our vectorized training labels\n",
    "one_hot_train_labels = to_one_hot(train_labels)\n",
    "# Our vectorized test labels\n",
    "one_hot_test_labels = to_one_hot(test_labels)"
   ]
  },
  {
   "cell_type": "markdown",
   "metadata": {},
   "source": [
    "Следует, однако, заметить, что Keras предоставляет возможность преобразования в категориальную форму встроенной функцией."
   ]
  },
  {
   "cell_type": "code",
   "execution_count": 35,
   "metadata": {
    "collapsed": true
   },
   "outputs": [],
   "source": [
    "from keras.utils.np_utils import to_categorical\n",
    "\n",
    "one_hot_train_labels = to_categorical(train_labels)\n",
    "one_hot_test_labels = to_categorical(test_labels)"
   ]
  },
  {
   "cell_type": "markdown",
   "metadata": {},
   "source": [
    "### Построение нейронной сети\n",
    "\n",
    "Задача классификации тематики похожа на задачу классификации отзывов: в обоих случаях мы пытаемся классифицировать короткие сниппеты текста.\n",
    "\n",
    "Фундаментальным отличием является то, что число классов возрастает от 2 до 46, т.е. размерность выходного пространства значительно вырастает.\n",
    "\n",
    "При \"стекинге \" плотных слоев (Dense layer) нейронной сети каждый слой может иметь доступ только к информации, представленной в результатах предыдущего слоя.\n",
    "\n",
    "Если один слой \"отбрасывает\" некоторую важную информацию, релевантную задаче классификации, эта информация уже не может быть восстановлена на последующих уровнях: каждый слой может иметь потенциальные **\"information bottleneck\"**. \n",
    "\n",
    "В предыдущем примере мы использовали 16 мерные промежуточные слои, но пространство размерности 16 может быть слишком ограниченым, чтобы научиться отличать 46 различных классов! Такие малые слои могут выступать как узкие места, перманентно отбрасывая релевантную информацию.\n",
    "\n",
    "По этим причинам будем использовать слои с 64 нейронами."
   ]
  },
  {
   "cell_type": "code",
   "execution_count": 36,
   "metadata": {
    "collapsed": true
   },
   "outputs": [],
   "source": [
    "from keras import models\n",
    "from keras import layers\n",
    "\n",
    "model = models.Sequential()\n",
    "model.add(layers.Dense(64, activation='relu', input_shape=(10000,)))\n",
    "model.add(layers.Dense(64, activation='relu'))\n",
    "model.add(layers.Dense(46, activation='softmax'))"
   ]
  },
  {
   "cell_type": "markdown",
   "metadata": {},
   "source": [
    "Нужно также отметить еще две вещи относительно текущей архитектуры:\n",
    "\n",
    "* Мы завершаем нейронную сеть с плотным слоем (Dense layer) размером 46. Это означает, что для каждого входого объекта, сеть будет порождать вектор, размерности 46. Каждый элемент в таком векторе (т.е. каждая размерность) будет кодировать разный выходной класс.\n",
    "* Последний уровень использует softmax в качестве функции активации. Это означает, что сеть будет порождать веротяностное распределение над 46 различными выходными классами, т.е. для каждого входого объекта, сеть будет порождать выходной вектор, размерности 46.\n",
    "\n",
    "Исползуемая функция потерь в этом случае: категориальная кросс-энтропия (categorial_crossentropy). Она измеряет дистанцию между двумя вероятностными распределениями: в нашем случае, разность между вероятностным распределением, порождаемым нашей сетью и истинным распределением меток.\n",
    "\n",
    "Минимизацией расстояние между этими двумя распределением мы обучаем нашу нейронную сеть порождать метки максимально близкие к истинным."
   ]
  },
  {
   "cell_type": "code",
   "execution_count": 37,
   "metadata": {
    "collapsed": true
   },
   "outputs": [],
   "source": [
    "model.compile(optimizer='rmsprop',\n",
    "              loss='categorical_crossentropy',\n",
    "              metrics=['accuracy'])"
   ]
  },
  {
   "cell_type": "markdown",
   "metadata": {},
   "source": [
    "### Валидация подхода\n",
    "\n",
    "Разобьем тренировочную выборку, так чтобы использовать контрольную выборку.\n",
    "\n",
    "После чего бучим нашу сеть на 20 эпох."
   ]
  },
  {
   "cell_type": "code",
   "execution_count": 38,
   "metadata": {
    "collapsed": true
   },
   "outputs": [],
   "source": [
    "x_val = x_train[:1000]\n",
    "partial_x_train = x_train[1000:]\n",
    "\n",
    "y_val = one_hot_train_labels[:1000]\n",
    "partial_y_train = one_hot_train_labels[1000:]"
   ]
  },
  {
   "cell_type": "code",
   "execution_count": 39,
   "metadata": {
    "collapsed": false
   },
   "outputs": [
    {
     "name": "stdout",
     "output_type": "stream",
     "text": [
      "Train on 7982 samples, validate on 1000 samples\n",
      "Epoch 1/20\n",
      "7982/7982 [==============================] - 4s - loss: 2.5306 - acc: 0.4962 - val_loss: 1.7180 - val_acc: 0.6120\n",
      "Epoch 2/20\n",
      "7982/7982 [==============================] - 2s - loss: 1.4430 - acc: 0.6878 - val_loss: 1.3435 - val_acc: 0.7060\n",
      "Epoch 3/20\n",
      "7982/7982 [==============================] - 2s - loss: 1.0929 - acc: 0.7661 - val_loss: 1.1704 - val_acc: 0.7430\n",
      "Epoch 4/20\n",
      "7982/7982 [==============================] - 2s - loss: 0.8682 - acc: 0.8166 - val_loss: 1.0788 - val_acc: 0.7600\n",
      "Epoch 5/20\n",
      "7982/7982 [==============================] - 2s - loss: 0.7020 - acc: 0.8483 - val_loss: 0.9844 - val_acc: 0.7830\n",
      "Epoch 6/20\n",
      "7982/7982 [==============================] - 2s - loss: 0.5666 - acc: 0.8796 - val_loss: 0.9401 - val_acc: 0.8030\n",
      "Epoch 7/20\n",
      "7982/7982 [==============================] - 2s - loss: 0.4592 - acc: 0.9039 - val_loss: 0.9090 - val_acc: 0.8010\n",
      "Epoch 8/20\n",
      "7982/7982 [==============================] - 2s - loss: 0.3704 - acc: 0.9226 - val_loss: 0.9359 - val_acc: 0.7890\n",
      "Epoch 9/20\n",
      "7982/7982 [==============================] - 2s - loss: 0.3036 - acc: 0.9308 - val_loss: 0.8912 - val_acc: 0.8070\n",
      "Epoch 10/20\n",
      "7982/7982 [==============================] - 2s - loss: 0.2539 - acc: 0.9412 - val_loss: 0.9059 - val_acc: 0.8110\n",
      "Epoch 11/20\n",
      "7982/7982 [==============================] - 2s - loss: 0.2185 - acc: 0.9471 - val_loss: 0.9152 - val_acc: 0.8120\n",
      "Epoch 12/20\n",
      "7982/7982 [==============================] - 2s - loss: 0.1872 - acc: 0.9511 - val_loss: 0.9045 - val_acc: 0.8150\n",
      "Epoch 13/20\n",
      "7982/7982 [==============================] - 2s - loss: 0.1696 - acc: 0.9523 - val_loss: 0.9338 - val_acc: 0.8090\n",
      "Epoch 14/20\n",
      "7982/7982 [==============================] - 2s - loss: 0.1531 - acc: 0.9554 - val_loss: 0.9644 - val_acc: 0.8090\n",
      "Epoch 15/20\n",
      "7982/7982 [==============================] - 2s - loss: 0.1387 - acc: 0.9555 - val_loss: 0.9697 - val_acc: 0.8120\n",
      "Epoch 16/20\n",
      "7982/7982 [==============================] - 2s - loss: 0.1310 - acc: 0.9562 - val_loss: 1.0280 - val_acc: 0.8040\n",
      "Epoch 17/20\n",
      "7982/7982 [==============================] - 2s - loss: 0.1214 - acc: 0.9577 - val_loss: 1.0307 - val_acc: 0.7950\n",
      "Epoch 18/20\n",
      "7982/7982 [==============================] - 2s - loss: 0.1193 - acc: 0.9582 - val_loss: 1.0454 - val_acc: 0.8080\n",
      "Epoch 19/20\n",
      "7982/7982 [==============================] - 2s - loss: 0.1136 - acc: 0.9595 - val_loss: 1.1013 - val_acc: 0.7950\n",
      "Epoch 20/20\n",
      "7982/7982 [==============================] - 2s - loss: 0.1104 - acc: 0.9595 - val_loss: 1.0710 - val_acc: 0.8020\n"
     ]
    }
   ],
   "source": [
    "history = model.fit(partial_x_train,\n",
    "                    partial_y_train,\n",
    "                    epochs=20,\n",
    "                    batch_size=512,\n",
    "                    validation_data=(x_val, y_val))"
   ]
  },
  {
   "cell_type": "markdown",
   "metadata": {},
   "source": [
    "Построим график функции потерь и верности:"
   ]
  },
  {
   "cell_type": "code",
   "execution_count": 40,
   "metadata": {
    "collapsed": false
   },
   "outputs": [
    {
     "data": {
      "image/png": "[encoded data removed]",
      "text/plain": [
       "<matplotlib.figure.Figure at 0x226f1ac8ac8>"
      ]
     },
     "metadata": {},
     "output_type": "display_data"
    }
   ],
   "source": [
    "import matplotlib.pyplot as plt\n",
    "\n",
    "loss = history.history['loss']\n",
    "val_loss = history.history['val_loss']\n",
    "\n",
    "epochs = range(1, len(loss) + 1)\n",
    "\n",
    "plt.plot(epochs, loss, 'bo', label='Training loss')\n",
    "plt.plot(epochs, val_loss, 'b', label='Validation loss')\n",
    "plt.title('Training and validation loss')\n",
    "plt.xlabel('Epochs')\n",
    "plt.ylabel('Loss')\n",
    "plt.legend()\n",
    "\n",
    "plt.show()"
   ]
  },
  {
   "cell_type": "code",
   "execution_count": 41,
   "metadata": {
    "collapsed": false
   },
   "outputs": [
    {
     "data": {
      "image/png": "[encoded data removed]",
      "text/plain": [
       "<matplotlib.figure.Figure at 0x2268a0e25c0>"
      ]
     },
     "metadata": {},
     "output_type": "display_data"
    }
   ],
   "source": [
    "plt.clf()   # clear figure\n",
    "\n",
    "acc = history.history['acc']\n",
    "val_acc = history.history['val_acc']\n",
    "\n",
    "plt.plot(epochs, acc, 'bo', label='Training acc')\n",
    "plt.plot(epochs, val_acc, 'b', label='Validation acc')\n",
    "plt.title('Training and validation accuracy')\n",
    "plt.xlabel('Epochs')\n",
    "plt.ylabel('Loss')\n",
    "plt.legend()\n",
    "\n",
    "plt.show()"
   ]
  },
  {
   "cell_type": "markdown",
   "metadata": {},
   "source": [
    "Похоже, что сеть начинает переобучаться через 9 эпох. Обучим сетку с нуля, за девять эпох и оценим результаты на тестовой выборке.\n"
   ]
  },
  {
   "cell_type": "code",
   "execution_count": 42,
   "metadata": {
    "collapsed": false
   },
   "outputs": [
    {
     "name": "stdout",
     "output_type": "stream",
     "text": [
      "Train on 7982 samples, validate on 1000 samples\n",
      "Epoch 1/9\n",
      "7982/7982 [==============================] - 3s - loss: 2.5401 - acc: 0.5226 - val_loss: 1.6792 - val_acc: 0.6540\n",
      "Epoch 2/9\n",
      "7982/7982 [==============================] - 2s - loss: 1.3785 - acc: 0.7096 - val_loss: 1.2825 - val_acc: 0.7210\n",
      "Epoch 3/9\n",
      "7982/7982 [==============================] - 2s - loss: 1.0207 - acc: 0.7781 - val_loss: 1.1321 - val_acc: 0.7550\n",
      "Epoch 4/9\n",
      "7982/7982 [==============================] - 2s - loss: 0.8003 - acc: 0.8257 - val_loss: 1.0532 - val_acc: 0.7580\n",
      "Epoch 5/9\n",
      "7982/7982 [==============================] - 2s - loss: 0.6392 - acc: 0.8629 - val_loss: 0.9753 - val_acc: 0.7950\n",
      "Epoch 6/9\n",
      "7982/7982 [==============================] - 2s - loss: 0.5112 - acc: 0.8930 - val_loss: 0.9097 - val_acc: 0.8130\n",
      "Epoch 7/9\n",
      "7982/7982 [==============================] - 2s - loss: 0.4115 - acc: 0.9141 - val_loss: 0.8913 - val_acc: 0.8240\n",
      "Epoch 8/9\n",
      "7982/7982 [==============================] - 2s - loss: 0.3357 - acc: 0.9283 - val_loss: 0.8725 - val_acc: 0.8280\n",
      "Epoch 9/9\n",
      "7982/7982 [==============================] - 2s - loss: 0.2787 - acc: 0.9371 - val_loss: 0.9345 - val_acc: 0.8010\n",
      "2208/2246 [============================>.] - ETA: 0s"
     ]
    }
   ],
   "source": [
    "model = models.Sequential()\n",
    "model.add(layers.Dense(64, activation='relu', input_shape=(10000,)))\n",
    "model.add(layers.Dense(64, activation='relu'))\n",
    "model.add(layers.Dense(46, activation='softmax'))\n",
    "\n",
    "model.compile(optimizer='rmsprop',\n",
    "              loss='categorical_crossentropy',\n",
    "              metrics=['accuracy'])\n",
    "model.fit(partial_x_train,\n",
    "          partial_y_train,\n",
    "          epochs=9,\n",
    "          batch_size=512,\n",
    "          validation_data=(x_val, y_val))\n",
    "results = model.evaluate(x_test, one_hot_test_labels)"
   ]
  },
  {
   "cell_type": "code",
   "execution_count": 43,
   "metadata": {
    "collapsed": false
   },
   "outputs": [
    {
     "data": {
      "text/plain": [
       "[1.0225298037405854, 0.77738201251968353]"
      ]
     },
     "execution_count": 43,
     "metadata": {},
     "output_type": "execute_result"
    }
   ],
   "source": [
    "results\n"
   ]
  },
  {
   "cell_type": "markdown",
   "metadata": {},
   "source": [
    "Наш подход достигает точности ~78%. В случае сбалансированной задачи бинарной классификации, точность, достигаемая случайным классификатором, составит 50%.\n",
    "В нашем случае она ближе к 19%, поэтому наши результаты кажутся достаточно хорошими, по сранвнению со случайной базой.\n",
    "\n",
    "### Генерация предсказаний на новых данных\n",
    "\n",
    "Мы можем убедиться, что метод predict нашей модели возвращает вероятностное распределение над всеми 46 темами.\n",
    "Сгенерируем предсказания для всех тестовых данных:"
   ]
  },
  {
   "cell_type": "code",
   "execution_count": 44,
   "metadata": {
    "collapsed": true
   },
   "outputs": [],
   "source": [
    "predictions = model.predict(x_test)"
   ]
  },
  {
   "cell_type": "markdown",
   "metadata": {},
   "source": [
    "Каждый элемент в predictions представляет собой вектор размерности 46:"
   ]
  },
  {
   "cell_type": "code",
   "execution_count": 45,
   "metadata": {
    "collapsed": false
   },
   "outputs": [
    {
     "data": {
      "text/plain": [
       "(46,)"
      ]
     },
     "execution_count": 45,
     "metadata": {},
     "output_type": "execute_result"
    }
   ],
   "source": [
    "predictions[0].shape"
   ]
  },
  {
   "cell_type": "markdown",
   "metadata": {},
   "source": [
    "Сумма его коэффициентов равна единице:"
   ]
  },
  {
   "cell_type": "code",
   "execution_count": 46,
   "metadata": {
    "collapsed": false
   },
   "outputs": [
    {
     "data": {
      "text/plain": [
       "1.0000001"
      ]
     },
     "execution_count": 46,
     "metadata": {},
     "output_type": "execute_result"
    }
   ],
   "source": [
    "np.sum(predictions[0])"
   ]
  },
  {
   "cell_type": "markdown",
   "metadata": {},
   "source": [
    "### Еще один способ обработки меток и потери\n",
    "\n",
    "Ранее было упомянуто, что еще один способ кодирования меток может заключаться в их преобразовании в целочисленный тензор:"
   ]
  },
  {
   "cell_type": "code",
   "execution_count": 47,
   "metadata": {
    "collapsed": true
   },
   "outputs": [],
   "source": [
    "y_train = np.array(train_labels)\n",
    "y_test = np.array(test_labels)"
   ]
  },
  {
   "cell_type": "markdown",
   "metadata": {},
   "source": [
    "Следует, однако, отметить, что это приведет к изменению в выборе функции потерь. Предыдущая функция потерь, категориальная кросс-энтропия (categorial_crossentropy) ожидает, что метки будут соответствовать категориальному кодирования. С целочисленными метками следует использовать **sparse_categorial_crossentropy**:"
   ]
  },
  {
   "cell_type": "code",
   "execution_count": 48,
   "metadata": {
    "collapsed": true
   },
   "outputs": [],
   "source": [
    "model.compile(optimizer='rmsprop', \n",
    "              loss='sparse_categorical_crossentropy',\n",
    "              metrics=['acc'])"
   ]
  },
  {
   "cell_type": "markdown",
   "metadata": {},
   "source": [
    "Эта \"новая\" функция потерь с математической точки зрения остается той же самой, что и categorial_crossentropy, однако она будет иметь другой интерфейс.\n",
    "\n",
    "### О важности наличия достаточно больших промежуточных слоев\n",
    "\n",
    "Ранее было упомянуто, что поскольку финальный выход 46 мерный, то нам следует избегать промежуточных слоев с менее чем 46 скрытыми нейронами. \n",
    "\n",
    "Попытаемся увидеть, что произойдет, когда мы введем information bottleneck - промежуточные слои значительно меньшие чем с 46 скрытыми нейронами (например, размерности 4).\n"
   ]
  },
  {
   "cell_type": "code",
   "execution_count": 49,
   "metadata": {
    "collapsed": false
   },
   "outputs": [
    {
     "name": "stdout",
     "output_type": "stream",
     "text": [
      "Train on 7982 samples, validate on 1000 samples\n",
      "Epoch 1/20\n",
      "7982/7982 [==============================] - 4s - loss: 3.1689 - acc: 0.2447 - val_loss: 2.6152 - val_acc: 0.2720\n",
      "Epoch 2/20\n",
      "7982/7982 [==============================] - 3s - loss: 2.0600 - acc: 0.5428 - val_loss: 1.7015 - val_acc: 0.5870\n",
      "Epoch 3/20\n",
      "7982/7982 [==============================] - 3s - loss: 1.5001 - acc: 0.6253 - val_loss: 1.5088 - val_acc: 0.6440\n",
      "Epoch 4/20\n",
      "7982/7982 [==============================] - 3s - loss: 1.2854 - acc: 0.6917 - val_loss: 1.4107 - val_acc: 0.6760\n",
      "Epoch 5/20\n",
      "7982/7982 [==============================] - 3s - loss: 1.1434 - acc: 0.7155 - val_loss: 1.3671 - val_acc: 0.6820\n",
      "Epoch 6/20\n",
      "7982/7982 [==============================] - 3s - loss: 1.0390 - acc: 0.7310 - val_loss: 1.3435 - val_acc: 0.6970\n",
      "Epoch 7/20\n",
      "7982/7982 [==============================] - 3s - loss: 0.9566 - acc: 0.7419 - val_loss: 1.3399 - val_acc: 0.69900.7\n",
      "Epoch 8/20\n",
      "7982/7982 [==============================] - 3s - loss: 0.8866 - acc: 0.7534 - val_loss: 1.3338 - val_acc: 0.7080\n",
      "Epoch 9/20\n",
      "7982/7982 [==============================] - 3s - loss: 0.8209 - acc: 0.7737 - val_loss: 1.3535 - val_acc: 0.7170\n",
      "Epoch 10/20\n",
      "7982/7982 [==============================] - 3s - loss: 0.7587 - acc: 0.7929 - val_loss: 1.3693 - val_acc: 0.7170\n",
      "Epoch 11/20\n",
      "7982/7982 [==============================] - 3s - loss: 0.7062 - acc: 0.8072 - val_loss: 1.4011 - val_acc: 0.7150\n",
      "Epoch 12/20\n",
      "7982/7982 [==============================] - 3s - loss: 0.6613 - acc: 0.8188 - val_loss: 1.3996 - val_acc: 0.7220\n",
      "Epoch 13/20\n",
      "7982/7982 [==============================] - 3s - loss: 0.6195 - acc: 0.8312 - val_loss: 1.4529 - val_acc: 0.7110\n",
      "Epoch 14/20\n",
      "7982/7982 [==============================] - 3s - loss: 0.5823 - acc: 0.8359 - val_loss: 1.4718 - val_acc: 0.7140 - acc: \n",
      "Epoch 15/20\n",
      "7982/7982 [==============================] - 3s - loss: 0.5497 - acc: 0.8439 - val_loss: 1.5114 - val_acc: 0.7160\n",
      "Epoch 16/20\n",
      "7982/7982 [==============================] - 3s - loss: 0.5200 - acc: 0.8530 - val_loss: 1.5548 - val_acc: 0.7170\n",
      "Epoch 17/20\n",
      "7982/7982 [==============================] - 3s - loss: 0.4934 - acc: 0.8642 - val_loss: 1.5793 - val_acc: 0.7190\n",
      "Epoch 18/20\n",
      "7982/7982 [==============================] - 3s - loss: 0.4695 - acc: 0.8775 - val_loss: 1.6320 - val_acc: 0.7190TA: 1s - loss:\n",
      "Epoch 19/20\n",
      "7982/7982 [==============================] - 3s - loss: 0.4449 - acc: 0.8837 - val_loss: 1.6747 - val_acc: 0.7100\n",
      "Epoch 20/20\n",
      "7982/7982 [==============================] - 3s - loss: 0.4275 - acc: 0.8891 - val_loss: 1.7515 - val_acc: 0.7150\n"
     ]
    },
    {
     "data": {
      "text/plain": [
       "<keras.callbacks.History at 0x2268a538748>"
      ]
     },
     "execution_count": 49,
     "metadata": {},
     "output_type": "execute_result"
    }
   ],
   "source": [
    "model = models.Sequential()\n",
    "model.add(layers.Dense(64, activation='relu', input_shape=(10000,)))\n",
    "model.add(layers.Dense(4, activation='relu'))\n",
    "model.add(layers.Dense(46, activation='softmax'))\n",
    "\n",
    "model.compile(optimizer='rmsprop',\n",
    "              loss='categorical_crossentropy',\n",
    "              metrics=['accuracy'])\n",
    "model.fit(partial_x_train,\n",
    "          partial_y_train,\n",
    "          epochs=20,\n",
    "          batch_size=128,\n",
    "          validation_data=(x_val, y_val))"
   ]
  },
  {
   "cell_type": "markdown",
   "metadata": {},
   "source": [
    "Сеть показывает на контрольной выборке верность равную ~71%. Т.е. абсолютное падение на 9%. \n",
    "\n",
    "Причина этого падения, преимущественно в том, что сейчас мы пытаемся \"сжать\" много информации в промежуточном слое, размерность которого слишком мала. \n",
    "\n",
    "Сеть может втиснуть большую часть необходимой информации в это представление, но далеко не всю.\n",
    "\n",
    "**Упражнения**\n",
    "* Попробуйте слои с большим и меньшим числом нейронов: 32, 128 и т.д.\n",
    "* Попробуйте 1 скрытый слой, три скрытых слоя и т.д.\n"
   ]
  },
  {
   "cell_type": "markdown",
   "metadata": {},
   "source": [
    "## Решение задачи регрессии с помощью нейронных сетей\n",
    "\n",
    "В предыдущих примерах рассматривались задачи классификации. Однако, нейронные сети способны решать не только задачи классификации, но и задачи регрессии.\n",
    "\n",
    "### Boston Housing Price dataset\n",
    "\n",
    "Попытаемся предсказать медианную цену домов в Бостоне в середине 1970-х годов, учитывая некоторые данные о районе в то время, такие как уровень преступности, ставка налога на собственность и т.д.\n",
    "\n",
    "Набор данных Boston Housing Price имеет сравнительно немного объектов: всего 506, при разбиении: 404 объекта в тренировочной выборке и 102 в тестовой выборке. \n",
    "\n",
    "И каждый атрибут во входных данных имеет разную шкалу. Например, некоторые значения могут быть доли, принимающие значения между 0 и 1, другие могут принимать значения между 1 и 12, а другие между 0 и 100...\n",
    "\n",
    "Итак, загрузим данные:"
   ]
  },
  {
   "cell_type": "code",
   "execution_count": 50,
   "metadata": {
    "collapsed": false
   },
   "outputs": [
    {
     "name": "stdout",
     "output_type": "stream",
     "text": [
      "Downloading data from https://s3.amazonaws.com/keras-datasets/boston_housing.npz\n",
      "57344/57026 [==============================] - 1s     \n"
     ]
    }
   ],
   "source": [
    "from keras.datasets import boston_housing\n",
    "\n",
    "(train_data, train_targets), (test_data, test_targets) =  boston_housing.load_data()"
   ]
  },
  {
   "cell_type": "code",
   "execution_count": 51,
   "metadata": {
    "collapsed": false
   },
   "outputs": [
    {
     "data": {
      "text/plain": [
       "(404, 13)"
      ]
     },
     "execution_count": 51,
     "metadata": {},
     "output_type": "execute_result"
    }
   ],
   "source": [
    "train_data.shape"
   ]
  },
  {
   "cell_type": "code",
   "execution_count": 52,
   "metadata": {
    "collapsed": false
   },
   "outputs": [
    {
     "data": {
      "text/plain": [
       "(102, 13)"
      ]
     },
     "execution_count": 52,
     "metadata": {},
     "output_type": "execute_result"
    }
   ],
   "source": [
    "test_data.shape"
   ]
  },
  {
   "cell_type": "markdown",
   "metadata": {},
   "source": [
    "Набор данных имеет 13 атрибутов:\n",
    "\n",
    "1. Per capita crime rate.\n",
    "* Proportion of residential land zoned for lots over 25,000 square feet.\n",
    "* Proportion of non-retail business acres per town.\n",
    "* Charles River dummy variable (= 1 if tract bounds river; 0 otherwise).\n",
    "* Nitric oxides concentration (parts per 10 million).\n",
    "* Average number of rooms per dwelling.\n",
    "* Proportion of owner-occupied units built prior to 1940.\n",
    "* Weighted distances to five Boston employment centres.\n",
    "* Index of accessibility to radial highways.\n",
    "* Full-value property-tax rate per $10,000.\n",
    "* Pupil-teacher ratio by town.\n",
    "* 1000 * (Bk - 0.63) ** 2 where Bk is the proportion of Black people by town.\n",
    "* % lower status of the population.\n",
    "\n",
    "Целевые значения представляют собой медианные значения цены (в тыс. долларов).\n",
    "Цены обычно распределены между 10 000 и 50 000 долларов (помните, что 1970-е годы и без поправок на инфляцию)."
   ]
  },
  {
   "cell_type": "code",
   "execution_count": 54,
   "metadata": {
    "collapsed": false,
    "scrolled": true
   },
   "outputs": [
    {
     "data": {
      "text/plain": [
       "array([ 15.2,  42.3,  50. ,  21.1,  17.7,  18.5,  11.3,  15.6,  15.6,\n",
       "        14.4,  12.1,  17.9,  23.1,  19.9,  15.7,   8.8,  50. ,  22.5,\n",
       "        24.1,  27.5,  10.9,  30.8,  32.9,  24. ,  18.5,  13.3,  22.9,\n",
       "        34.7,  16.6,  17.5,  22.3,  16.1,  14.9,  23.1,  34.9,  25. ,\n",
       "        13.9,  13.1,  20.4,  20. ,  15.2,  24.7,  22.2,  16.7,  12.7,\n",
       "        15.6,  18.4,  21. ,  30.1,  15.1,  18.7,   9.6,  31.5,  24.8,\n",
       "        19.1,  22. ,  14.5,  11. ,  32. ,  29.4,  20.3,  24.4,  14.6,\n",
       "        19.5,  14.1,  14.3,  15.6,  10.5,   6.3,  19.3,  19.3,  13.4,\n",
       "        36.4,  17.8,  13.5,  16.5,   8.3,  14.3,  16. ,  13.4,  28.6,\n",
       "        43.5,  20.2,  22. ,  23. ,  20.7,  12.5,  48.5,  14.6,  13.4,\n",
       "        23.7,  50. ,  21.7,  39.8,  38.7,  22.2,  34.9,  22.5,  31.1,\n",
       "        28.7,  46. ,  41.7,  21. ,  26.6,  15. ,  24.4,  13.3,  21.2,\n",
       "        11.7,  21.7,  19.4,  50. ,  22.8,  19.7,  24.7,  36.2,  14.2,\n",
       "        18.9,  18.3,  20.6,  24.6,  18.2,   8.7,  44. ,  10.4,  13.2,\n",
       "        21.2,  37. ,  30.7,  22.9,  20. ,  19.3,  31.7,  32. ,  23.1,\n",
       "        18.8,  10.9,  50. ,  19.6,   5. ,  14.4,  19.8,  13.8,  19.6,\n",
       "        23.9,  24.5,  25. ,  19.9,  17.2,  24.6,  13.5,  26.6,  21.4,\n",
       "        11.9,  22.6,  19.6,   8.5,  23.7,  23.1,  22.4,  20.5,  23.6,\n",
       "        18.4,  35.2,  23.1,  27.9,  20.6,  23.7,  28. ,  13.6,  27.1,\n",
       "        23.6,  20.6,  18.2,  21.7,  17.1,   8.4,  25.3,  13.8,  22.2,\n",
       "        18.4,  20.7,  31.6,  30.5,  20.3,   8.8,  19.2,  19.4,  23.1,\n",
       "        23. ,  14.8,  48.8,  22.6,  33.4,  21.1,  13.6,  32.2,  13.1,\n",
       "        23.4,  18.9,  23.9,  11.8,  23.3,  22.8,  19.6,  16.7,  13.4,\n",
       "        22.2,  20.4,  21.8,  26.4,  14.9,  24.1,  23.8,  12.3,  29.1,\n",
       "        21. ,  19.5,  23.3,  23.8,  17.8,  11.5,  21.7,  19.9,  25. ,\n",
       "        33.4,  28.5,  21.4,  24.3,  27.5,  33.1,  16.2,  23.3,  48.3,\n",
       "        22.9,  22.8,  13.1,  12.7,  22.6,  15. ,  15.3,  10.5,  24. ,\n",
       "        18.5,  21.7,  19.5,  33.2,  23.2,   5. ,  19.1,  12.7,  22.3,\n",
       "        10.2,  13.9,  16.3,  17. ,  20.1,  29.9,  17.2,  37.3,  45.4,\n",
       "        17.8,  23.2,  29. ,  22. ,  18. ,  17.4,  34.6,  20.1,  25. ,\n",
       "        15.6,  24.8,  28.2,  21.2,  21.4,  23.8,  31. ,  26.2,  17.4,\n",
       "        37.9,  17.5,  20. ,   8.3,  23.9,   8.4,  13.8,   7.2,  11.7,\n",
       "        17.1,  21.6,  50. ,  16.1,  20.4,  20.6,  21.4,  20.6,  36.5,\n",
       "         8.5,  24.8,  10.8,  21.9,  17.3,  18.9,  36.2,  14.9,  18.2,\n",
       "        33.3,  21.8,  19.7,  31.6,  24.8,  19.4,  22.8,   7.5,  44.8,\n",
       "        16.8,  18.7,  50. ,  50. ,  19.5,  20.1,  50. ,  17.2,  20.8,\n",
       "        19.3,  41.3,  20.4,  20.5,  13.8,  16.5,  23.9,  20.6,  31.5,\n",
       "        23.3,  16.8,  14. ,  33.8,  36.1,  12.8,  18.3,  18.7,  19.1,\n",
       "        29. ,  30.1,  50. ,  50. ,  22. ,  11.9,  37.6,  50. ,  22.7,\n",
       "        20.8,  23.5,  27.9,  50. ,  19.3,  23.9,  22.6,  15.2,  21.7,\n",
       "        19.2,  43.8,  20.3,  33.2,  19.9,  22.5,  32.7,  22. ,  17.1,\n",
       "        19. ,  15. ,  16.1,  25.1,  23.7,  28.7,  37.2,  22.6,  16.4,\n",
       "        25. ,  29.8,  22.1,  17.4,  18.1,  30.3,  17.5,  24.7,  12.6,\n",
       "        26.5,  28.7,  13.3,  10.4,  24.4,  23. ,  20. ,  17.8,   7. ,\n",
       "        11.8,  24.4,  13.8,  19.4,  25.2,  19.4,  19.4,  29.1])"
      ]
     },
     "execution_count": 54,
     "metadata": {},
     "output_type": "execute_result"
    }
   ],
   "source": [
    "train_targets"
   ]
  },
  {
   "cell_type": "markdown",
   "metadata": {},
   "source": [
    "### Подготовка данных\n",
    "\n",
    "\"Скормить\" нейросети значения, которые имеют разные диапазоны. Нейронная сеть может автоматически адаптироваться к таким гетерогенным данным, но это определенно делает обучение намного сложнее.\n",
    "\n",
    "Широкораспространенной практикой при работе с такими данными - выполнять нормализацию по атрибутам (feature-wise normalization): для каждой атрибуты входных данных (столбец в матрице входных данных), мы вычитаем среднее (матожидание) и делим на стандартное отклонение, тоесть атрибуты будут центрированы около 0 и измеряется стандартным отклонением.\n",
    "Нормализация данных в NumPy делается очень просто:"
   ]
  },
  {
   "cell_type": "code",
   "execution_count": 55,
   "metadata": {
    "collapsed": true
   },
   "outputs": [],
   "source": [
    "mean = train_data.mean(axis=0)\n",
    "train_data -= mean\n",
    "std = train_data.std(axis=0)\n",
    "train_data /= std\n",
    "\n",
    "test_data -= mean\n",
    "test_data /= std"
   ]
  },
  {
   "cell_type": "markdown",
   "metadata": {},
   "source": [
    "Обратите внимание, что величины, которые мы используем для нормализации тестовых данных вычислялись с использованием данных обучения.\n",
    "\n",
    "Мы никогда не должны использовать в рабочем процессе какие-либо количественные метрики, вычисленные на тренировочных данных, даже для таких простых вещей как нормализация данных.\n",
    "\n",
    "### Построение нейронной сети\n",
    "\n",
    "Поскольку нам доступно небольшое количество объектов, мы будем использовать достаточно малую нейронную сеть с двумя скрытыми уровнями, по 64 скрытых нейрона каждый.\n",
    "\n",
    "В целом, чем меньше у вас данных, тем хуже будет переобучение, а использование небольшой сети - это один из способов смягчения переобучения.\n"
   ]
  },
  {
   "cell_type": "code",
   "execution_count": 56,
   "metadata": {
    "collapsed": true
   },
   "outputs": [],
   "source": [
    "from keras import models\n",
    "from keras import layers\n",
    "\n",
    "def build_model():\n",
    "    # Because we will need to instantiate\n",
    "    # the same model multiple time,\n",
    "    # we use a function to construct it.\n",
    "    model = models.Sequential()\n",
    "    model.add(layers.Dense(64, activation='relu',\n",
    "                           input_shape=(train_data.shape[1],)))\n",
    "    model.add(layers.Dense(64, activation='relu'))\n",
    "    model.add(layers.Dense(1))\n",
    "    model.compile(optimizer='rmsprop', loss='mse', metrics=['mae'])\n",
    "    return model"
   ]
  },
  {
   "cell_type": "markdown",
   "metadata": {},
   "source": [
    "Нейронная сеть завершается слоем с одним нейроном без активации (т.е. по факту - линейным слоем). Это достаточно типичная установка для скалярной регрессии. Применение функции активации будет ограничивать диапазон выходных значений, например если мы применим сигмоидальную функцию активации к последнему слою, сеть будет обучаться предсказывать значения между 0 и 1.\n",
    "\n",
    "Поскольку последний уровень линейные, сеть свободна в выборе диапазона предсказываемых значений.\n",
    "\n",
    "Следует также заметить, что мы компилируем сеть с функцией потерь mse - mean squared error (среднеквадратичная ошибка), - квадрат разности между предсказаниями и целевыми значениями. MSE является широко распространенной функцией потерь для задач регрессии.\n",
    "\n",
    "Мы также мониторим в ходе обучения метрику MAE - Mean Absolute Error.\n",
    "\n",
    "\n",
    "### Валидация нашего подхода с использованием кросс-валидации\n",
    "Для оценки нейронной сети во время продолжения корректировки её параметров (кол-во эпох, например), мы могли бы просто разделить данные на тренировочную и контрольную выборки как прежде.\n",
    "\n",
    "Однако, поскольку мы имеем сравнительно немного данных,  и поэтому контрольная выборка может быть очень малой. Последствием этого является то, что данные на контрольной выборке могут сильно изменяться в зависимости от того, какие объекты мы выбираем для контроля, а какие для обучения, т.е. показания на контрольной выборке могут иметь высокий разброс, относительно разделения данных. Безусловно, это мешает оценить надежность модели.\n",
    "\n",
    "Хорошим подходом при решении подобных ситуация является кросс-валидации (K-fold cross-validation). \n",
    "Данные делятся на K частей, K-1 используется для обучения, 1 для тестирования. \n",
    "\n",
    "![](https://dpzbhybb2pdcj.cloudfront.net/chollet/v-6/Figures/k_fold_validation.png)\n",
    "\n",
    "А вот пример кода:"
   ]
  },
  {
   "cell_type": "code",
   "execution_count": 57,
   "metadata": {
    "collapsed": false
   },
   "outputs": [
    {
     "name": "stdout",
     "output_type": "stream",
     "text": [
      "processing fold # 0\n",
      "processing fold # 1\n",
      "processing fold # 2\n",
      "processing fold # 3\n"
     ]
    }
   ],
   "source": [
    "import numpy as np\n",
    "\n",
    "k = 4\n",
    "num_val_samples = len(train_data) // k\n",
    "num_epochs = 100\n",
    "all_scores = []\n",
    "for i in range(k):\n",
    "    print('processing fold #', i)\n",
    "    # Prepare the validation data: data from partition # k\n",
    "    val_data = train_data[i * num_val_samples: (i + 1) * num_val_samples]\n",
    "    val_targets = train_targets[i * num_val_samples: (i + 1) * num_val_samples]\n",
    "\n",
    "    # Prepare the training data: data from all other partitions\n",
    "    partial_train_data = np.concatenate(\n",
    "        [train_data[:i * num_val_samples],\n",
    "         train_data[(i + 1) * num_val_samples:]],\n",
    "        axis=0)\n",
    "    partial_train_targets = np.concatenate(\n",
    "        [train_targets[:i * num_val_samples],\n",
    "         train_targets[(i + 1) * num_val_samples:]],\n",
    "        axis=0)\n",
    "\n",
    "    # Build the Keras model (already compiled)\n",
    "    model = build_model()\n",
    "    # Train the model (in silent mode, verbose=0)\n",
    "    model.fit(partial_train_data, partial_train_targets,\n",
    "              epochs=num_epochs, batch_size=1, verbose=0)\n",
    "    # Evaluate the model on the validation data\n",
    "    val_mse, val_mae = model.evaluate(val_data, val_targets, verbose=0)\n",
    "    all_scores.append(val_mae)"
   ]
  },
  {
   "cell_type": "markdown",
   "metadata": {},
   "source": [
    "Запуск кода с\n",
    "    num_epoch = 100\n",
    "приводит к сл. результатам:"
   ]
  },
  {
   "cell_type": "code",
   "execution_count": 58,
   "metadata": {
    "collapsed": false
   },
   "outputs": [
    {
     "data": {
      "text/plain": [
       "[2.0595761856230177, 2.0456425553501241, 3.001954210866796, 2.4008110147891659]"
      ]
     },
     "execution_count": 58,
     "metadata": {},
     "output_type": "execute_result"
    }
   ],
   "source": [
    "all_scores"
   ]
  },
  {
   "cell_type": "code",
   "execution_count": 59,
   "metadata": {
    "collapsed": false
   },
   "outputs": [
    {
     "data": {
      "text/plain": [
       "2.3769959916572758"
      ]
     },
     "execution_count": 59,
     "metadata": {},
     "output_type": "execute_result"
    }
   ],
   "source": [
    "np.mean(all_scores)\n"
   ]
  },
  {
   "cell_type": "markdown",
   "metadata": {},
   "source": [
    "Разные запуски показывают разные показатели, но их среднее значительно более надежная величина."
   ]
  },
  {
   "cell_type": "code",
   "execution_count": null,
   "metadata": {
    "collapsed": true
   },
   "outputs": [],
   "source": []
  }
 ],
 "metadata": {
  "kernelspec": {
   "display_name": "Python 3",
   "language": "python",
   "name": "python3"
  },
  "language_info": {
   "codemirror_mode": {
    "name": "ipython",
    "version": 3
   },
   "file_extension": ".py",
   "mimetype": "text/x-python",
   "name": "python",
   "nbconvert_exporter": "python",
   "pygments_lexer": "ipython3",
   "version": "3.6.0"
  }
 },
 "nbformat": 4,
 "nbformat_minor": 2
}
